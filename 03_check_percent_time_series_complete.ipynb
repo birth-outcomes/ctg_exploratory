{
 "cells": [
  {
   "cell_type": "markdown",
   "id": "bac6499a-0713-4bb2-ad04-c33e4d180432",
   "metadata": {},
   "source": [
    "## Check what proportion of *both* FRH and UC tiem series are 70% to 95% complete"
   ]
  },
  {
   "cell_type": "markdown",
   "id": "4038cdfb-91c2-4b15-80b6-d410b9a83a7c",
   "metadata": {},
   "source": [
    "## Load packages"
   ]
  },
  {
   "cell_type": "code",
   "execution_count": 1,
   "id": "a7eb94d0-00ba-4a1f-9427-d8ffea611033",
   "metadata": {},
   "outputs": [],
   "source": [
    "import os\n",
    "import matplotlib.pyplot as plt\n",
    "import numpy as np\n",
    "import pandas as pd"
   ]
  },
  {
   "cell_type": "markdown",
   "id": "53261b32-261e-41f3-9b26-34359f8b3d83",
   "metadata": {},
   "source": [
    "## Load data"
   ]
  },
  {
   "cell_type": "code",
   "execution_count": 2,
   "id": "c6d322b2-640b-40ae-98fd-44ffb20ec077",
   "metadata": {},
   "outputs": [],
   "source": [
    "# Set up dictionary for CSV files\n",
    "csv_files = dict()\n",
    "\n",
    "# Load files into dictionary\n",
    "filenames = os.listdir('./data_csv')\n",
    "for file in filenames:\n",
    "    filename, file_extension = os.path.splitext(f'./data_csv/{file}')\n",
    "    # Remove path from filenmaes and load data\n",
    "    if file_extension == '.csv':\n",
    "        filename_short = filename.split('/')[-1]\n",
    "        csv_files[filename_short] = pd.read_csv(f'./data_csv/{file}')\n",
    "\n",
    "# Load meta data and transform\n",
    "metadata = pd.read_csv('./data_csv/metadata.csv', index_col='parameter')\n",
    "csv_index = list(metadata)"
   ]
  },
  {
   "cell_type": "code",
   "execution_count": 3,
   "id": "529992cc-c3ba-4d21-be0f-d40a28c5c51a",
   "metadata": {},
   "outputs": [],
   "source": [
    "test_completion = np.arange(70, 96, 5)"
   ]
  },
  {
   "cell_type": "code",
   "execution_count": 4,
   "id": "7e607ea1-898a-4094-a363-75b5824211c6",
   "metadata": {},
   "outputs": [
    {
     "data": {
      "text/html": [
       "<div>\n",
       "<style scoped>\n",
       "    .dataframe tbody tr th:only-of-type {\n",
       "        vertical-align: middle;\n",
       "    }\n",
       "\n",
       "    .dataframe tbody tr th {\n",
       "        vertical-align: top;\n",
       "    }\n",
       "\n",
       "    .dataframe thead th {\n",
       "        text-align: right;\n",
       "    }\n",
       "</style>\n",
       "<table border=\"1\" class=\"dataframe\">\n",
       "  <thead>\n",
       "    <tr style=\"text-align: right;\">\n",
       "      <th></th>\n",
       "      <th>seconds</th>\n",
       "      <th>FHR</th>\n",
       "      <th>UC</th>\n",
       "    </tr>\n",
       "  </thead>\n",
       "  <tbody>\n",
       "    <tr>\n",
       "      <th>0</th>\n",
       "      <td>0</td>\n",
       "      <td>128.50</td>\n",
       "      <td>21.5</td>\n",
       "    </tr>\n",
       "    <tr>\n",
       "      <th>1</th>\n",
       "      <td>1</td>\n",
       "      <td>128.00</td>\n",
       "      <td>21.5</td>\n",
       "    </tr>\n",
       "    <tr>\n",
       "      <th>2</th>\n",
       "      <td>2</td>\n",
       "      <td>128.00</td>\n",
       "      <td>21.5</td>\n",
       "    </tr>\n",
       "    <tr>\n",
       "      <th>3</th>\n",
       "      <td>3</td>\n",
       "      <td>127.25</td>\n",
       "      <td>21.5</td>\n",
       "    </tr>\n",
       "    <tr>\n",
       "      <th>4</th>\n",
       "      <td>4</td>\n",
       "      <td>127.25</td>\n",
       "      <td>21.0</td>\n",
       "    </tr>\n",
       "    <tr>\n",
       "      <th>...</th>\n",
       "      <td>...</td>\n",
       "      <td>...</td>\n",
       "      <td>...</td>\n",
       "    </tr>\n",
       "    <tr>\n",
       "      <th>17995</th>\n",
       "      <td>17995</td>\n",
       "      <td>126.00</td>\n",
       "      <td>10.5</td>\n",
       "    </tr>\n",
       "    <tr>\n",
       "      <th>17996</th>\n",
       "      <td>17996</td>\n",
       "      <td>126.00</td>\n",
       "      <td>10.5</td>\n",
       "    </tr>\n",
       "    <tr>\n",
       "      <th>17997</th>\n",
       "      <td>17997</td>\n",
       "      <td>126.25</td>\n",
       "      <td>10.5</td>\n",
       "    </tr>\n",
       "    <tr>\n",
       "      <th>17998</th>\n",
       "      <td>17998</td>\n",
       "      <td>126.25</td>\n",
       "      <td>10.5</td>\n",
       "    </tr>\n",
       "    <tr>\n",
       "      <th>17999</th>\n",
       "      <td>17999</td>\n",
       "      <td>125.25</td>\n",
       "      <td>10.5</td>\n",
       "    </tr>\n",
       "  </tbody>\n",
       "</table>\n",
       "<p>18000 rows × 3 columns</p>\n",
       "</div>"
      ],
      "text/plain": [
       "       seconds     FHR    UC\n",
       "0            0  128.50  21.5\n",
       "1            1  128.00  21.5\n",
       "2            2  128.00  21.5\n",
       "3            3  127.25  21.5\n",
       "4            4  127.25  21.0\n",
       "...        ...     ...   ...\n",
       "17995    17995  126.00  10.5\n",
       "17996    17996  126.00  10.5\n",
       "17997    17997  126.25  10.5\n",
       "17998    17998  126.25  10.5\n",
       "17999    17999  125.25  10.5\n",
       "\n",
       "[18000 rows x 3 columns]"
      ]
     },
     "execution_count": 4,
     "metadata": {},
     "output_type": "execute_result"
    }
   ],
   "source": [
    "csv_files[csv_index[0]]"
   ]
  },
  {
   "cell_type": "code",
   "execution_count": 5,
   "id": "fbbfc28d-8201-43dc-9298-723417cf75d5",
   "metadata": {},
   "outputs": [],
   "source": [
    "test_completion = np.arange(70, 96, 5)\n",
    "completion_dict = dict()\n",
    "for completion in test_completion:\n",
    "    completion_dict[completion] = []\n",
    "\n",
    "for index in csv_index:\n",
    "    df = csv_files[index]\n",
    "    fhr_complete = np.mean(df['FHR'] > 0)\n",
    "    uc_complete = np.mean(df['UC'] > 0)\n",
    "    min_completion = min(fhr_complete, uc_complete)\n",
    "    for complete in test_completion:\n",
    "        if min_completion * 100 >= complete:\n",
    "            completion_dict[complete].append(index)"
   ]
  },
  {
   "cell_type": "markdown",
   "id": "c57eb10b-1a34-4f9d-890a-5f679e47ad0b",
   "metadata": {},
   "source": [
    "Show number of records meeting compoletion targets."
   ]
  },
  {
   "cell_type": "code",
   "execution_count": 6,
   "id": "415ade6b-5781-4951-8b75-e43e9bcb778e",
   "metadata": {},
   "outputs": [
    {
     "name": "stdout",
     "output_type": "stream",
     "text": [
      "70% complete: 383\n",
      "75% complete: 312\n",
      "80% complete: 225\n",
      "85% complete: 150\n",
      "90% complete: 71\n",
      "95% complete: 31\n"
     ]
    }
   ],
   "source": [
    "for complete in test_completion:\n",
    "    print (f'{complete}% complete: {len(completion_dict[complete])}')"
   ]
  }
 ],
 "metadata": {
  "kernelspec": {
   "display_name": "Python 3 (ipykernel)",
   "language": "python",
   "name": "python3"
  },
  "language_info": {
   "codemirror_mode": {
    "name": "ipython",
    "version": 3
   },
   "file_extension": ".py",
   "mimetype": "text/x-python",
   "name": "python",
   "nbconvert_exporter": "python",
   "pygments_lexer": "ipython3",
   "version": "3.10.13"
  }
 },
 "nbformat": 4,
 "nbformat_minor": 5
}
