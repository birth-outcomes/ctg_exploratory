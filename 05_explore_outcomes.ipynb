{
 "cells": [
  {
   "cell_type": "markdown",
   "metadata": {},
   "source": [
    "# Explore outcomes"
   ]
  },
  {
   "cell_type": "markdown",
   "metadata": {},
   "source": [
    "## Import packages"
   ]
  },
  {
   "cell_type": "code",
   "execution_count": 1,
   "metadata": {},
   "outputs": [],
   "source": [
    "import matplotlib.pyplot as plt\n",
    "import numpy as np\n",
    "import pandas as pd\n",
    "pd.set_option('display.max_rows', 40)"
   ]
  },
  {
   "cell_type": "markdown",
   "metadata": {},
   "source": [
    "## Load data"
   ]
  },
  {
   "cell_type": "code",
   "execution_count": 2,
   "metadata": {},
   "outputs": [],
   "source": [
    "meta = pd.read_csv('./data_csv/metadata.csv', index_col='parameter')"
   ]
  },
  {
   "cell_type": "code",
   "execution_count": 3,
   "metadata": {},
   "outputs": [
    {
     "data": {
      "text/html": [
       "<div>\n",
       "<style scoped>\n",
       "    .dataframe tbody tr th:only-of-type {\n",
       "        vertical-align: middle;\n",
       "    }\n",
       "\n",
       "    .dataframe tbody tr th {\n",
       "        vertical-align: top;\n",
       "    }\n",
       "\n",
       "    .dataframe thead th {\n",
       "        text-align: right;\n",
       "    }\n",
       "</style>\n",
       "<table border=\"1\" class=\"dataframe\">\n",
       "  <thead>\n",
       "    <tr style=\"text-align: right;\">\n",
       "      <th></th>\n",
       "      <th>1347</th>\n",
       "      <th>2040</th>\n",
       "      <th>1054</th>\n",
       "      <th>1247</th>\n",
       "      <th>1127</th>\n",
       "      <th>1231</th>\n",
       "      <th>1318</th>\n",
       "      <th>1481</th>\n",
       "      <th>1358</th>\n",
       "      <th>1243</th>\n",
       "      <th>...</th>\n",
       "      <th>1421</th>\n",
       "      <th>1236</th>\n",
       "      <th>1256</th>\n",
       "      <th>1435</th>\n",
       "      <th>1404</th>\n",
       "      <th>1118</th>\n",
       "      <th>1018</th>\n",
       "      <th>1447</th>\n",
       "      <th>1152</th>\n",
       "      <th>1229</th>\n",
       "    </tr>\n",
       "    <tr>\n",
       "      <th>parameter</th>\n",
       "      <th></th>\n",
       "      <th></th>\n",
       "      <th></th>\n",
       "      <th></th>\n",
       "      <th></th>\n",
       "      <th></th>\n",
       "      <th></th>\n",
       "      <th></th>\n",
       "      <th></th>\n",
       "      <th></th>\n",
       "      <th></th>\n",
       "      <th></th>\n",
       "      <th></th>\n",
       "      <th></th>\n",
       "      <th></th>\n",
       "      <th></th>\n",
       "      <th></th>\n",
       "      <th></th>\n",
       "      <th></th>\n",
       "      <th></th>\n",
       "      <th></th>\n",
       "    </tr>\n",
       "  </thead>\n",
       "  <tbody>\n",
       "    <tr>\n",
       "      <th>pH</th>\n",
       "      <td>7.14</td>\n",
       "      <td>7.23</td>\n",
       "      <td>7.19</td>\n",
       "      <td>7.32</td>\n",
       "      <td>7.35</td>\n",
       "      <td>7.28</td>\n",
       "      <td>7.22</td>\n",
       "      <td>7.29</td>\n",
       "      <td>7.14</td>\n",
       "      <td>7.24</td>\n",
       "      <td>...</td>\n",
       "      <td>7.29</td>\n",
       "      <td>7.27</td>\n",
       "      <td>7.32</td>\n",
       "      <td>7.16</td>\n",
       "      <td>7.18</td>\n",
       "      <td>7.09</td>\n",
       "      <td>7.09</td>\n",
       "      <td>7.14</td>\n",
       "      <td>7.23</td>\n",
       "      <td>7.13</td>\n",
       "    </tr>\n",
       "    <tr>\n",
       "      <th>BDecf</th>\n",
       "      <td>8.60</td>\n",
       "      <td>5.27</td>\n",
       "      <td>4.45</td>\n",
       "      <td>-0.86</td>\n",
       "      <td>2.96</td>\n",
       "      <td>-0.06</td>\n",
       "      <td>5.86</td>\n",
       "      <td>2.50</td>\n",
       "      <td>6.52</td>\n",
       "      <td>1.77</td>\n",
       "      <td>...</td>\n",
       "      <td>5.76</td>\n",
       "      <td>5.92</td>\n",
       "      <td>4.73</td>\n",
       "      <td>7.01</td>\n",
       "      <td>7.35</td>\n",
       "      <td>8.76</td>\n",
       "      <td>9.58</td>\n",
       "      <td>7.91</td>\n",
       "      <td>0.16</td>\n",
       "      <td>6.21</td>\n",
       "    </tr>\n",
       "    <tr>\n",
       "      <th>pCO2</th>\n",
       "      <td>7.50</td>\n",
       "      <td>6.80</td>\n",
       "      <td>8.00</td>\n",
       "      <td>6.90</td>\n",
       "      <td>5.30</td>\n",
       "      <td>7.50</td>\n",
       "      <td>6.80</td>\n",
       "      <td>6.50</td>\n",
       "      <td>8.40</td>\n",
       "      <td>7.80</td>\n",
       "      <td>...</td>\n",
       "      <td>5.50</td>\n",
       "      <td>5.80</td>\n",
       "      <td>5.30</td>\n",
       "      <td>7.70</td>\n",
       "      <td>7.10</td>\n",
       "      <td>8.70</td>\n",
       "      <td>8.30</td>\n",
       "      <td>7.80</td>\n",
       "      <td>8.60</td>\n",
       "      <td>8.80</td>\n",
       "    </tr>\n",
       "    <tr>\n",
       "      <th>BE</th>\n",
       "      <td>-10.80</td>\n",
       "      <td>-7.00</td>\n",
       "      <td>-6.40</td>\n",
       "      <td>-1.00</td>\n",
       "      <td>-4.10</td>\n",
       "      <td>-1.80</td>\n",
       "      <td>-7.90</td>\n",
       "      <td>-4.10</td>\n",
       "      <td>-8.80</td>\n",
       "      <td>-4.10</td>\n",
       "      <td>...</td>\n",
       "      <td>-6.80</td>\n",
       "      <td>-7.40</td>\n",
       "      <td>-5.50</td>\n",
       "      <td>-8.00</td>\n",
       "      <td>-8.40</td>\n",
       "      <td>-11.70</td>\n",
       "      <td>-12.10</td>\n",
       "      <td>-9.80</td>\n",
       "      <td>-2.30</td>\n",
       "      <td>-8.90</td>\n",
       "    </tr>\n",
       "    <tr>\n",
       "      <th>Apgar1</th>\n",
       "      <td>10.00</td>\n",
       "      <td>2.00</td>\n",
       "      <td>9.00</td>\n",
       "      <td>9.00</td>\n",
       "      <td>9.00</td>\n",
       "      <td>8.00</td>\n",
       "      <td>5.00</td>\n",
       "      <td>8.00</td>\n",
       "      <td>5.00</td>\n",
       "      <td>10.00</td>\n",
       "      <td>...</td>\n",
       "      <td>9.00</td>\n",
       "      <td>9.00</td>\n",
       "      <td>9.00</td>\n",
       "      <td>9.00</td>\n",
       "      <td>3.00</td>\n",
       "      <td>8.00</td>\n",
       "      <td>8.00</td>\n",
       "      <td>10.00</td>\n",
       "      <td>8.00</td>\n",
       "      <td>9.00</td>\n",
       "    </tr>\n",
       "  </tbody>\n",
       "</table>\n",
       "<p>5 rows × 552 columns</p>\n",
       "</div>"
      ],
      "text/plain": [
       "            1347  2040  1054  1247  1127  1231  1318  1481  1358   1243  ...  \\\n",
       "parameter                                                                ...   \n",
       "pH          7.14  7.23  7.19  7.32  7.35  7.28  7.22  7.29  7.14   7.24  ...   \n",
       "BDecf       8.60  5.27  4.45 -0.86  2.96 -0.06  5.86  2.50  6.52   1.77  ...   \n",
       "pCO2        7.50  6.80  8.00  6.90  5.30  7.50  6.80  6.50  8.40   7.80  ...   \n",
       "BE        -10.80 -7.00 -6.40 -1.00 -4.10 -1.80 -7.90 -4.10 -8.80  -4.10  ...   \n",
       "Apgar1     10.00  2.00  9.00  9.00  9.00  8.00  5.00  8.00  5.00  10.00  ...   \n",
       "\n",
       "           1421  1236  1256  1435  1404   1118   1018   1447  1152  1229  \n",
       "parameter                                                                 \n",
       "pH         7.29  7.27  7.32  7.16  7.18   7.09   7.09   7.14  7.23  7.13  \n",
       "BDecf      5.76  5.92  4.73  7.01  7.35   8.76   9.58   7.91  0.16  6.21  \n",
       "pCO2       5.50  5.80  5.30  7.70  7.10   8.70   8.30   7.80  8.60  8.80  \n",
       "BE        -6.80 -7.40 -5.50 -8.00 -8.40 -11.70 -12.10  -9.80 -2.30 -8.90  \n",
       "Apgar1     9.00  9.00  9.00  9.00  3.00   8.00   8.00  10.00  8.00  9.00  \n",
       "\n",
       "[5 rows x 552 columns]"
      ]
     },
     "execution_count": 3,
     "metadata": {},
     "output_type": "execute_result"
    }
   ],
   "source": [
    "meta.head()"
   ]
  },
  {
   "cell_type": "markdown",
   "metadata": {},
   "source": [
    "## Show distribution of outcomes that can be used to indicate fetal distress\n",
    "\n",
    "* Fetal acidemia: pH < 7.2\n",
    "* Significant fetal acidemia: pH < 7.0\n",
    "* Metabolic acidosis: pH < 7.05 and BDecf > 10mmol/l\n",
    "* Metabolic acidosis: pH < 7.05 and lactcate > 10 mmol/l\n",
    "* Apgar score relates to whether newborn needs help breathing or is having heart problems. Apgar1 is one minute after birth, apgar5 is five minutes after birth. A 5-minute Apgar score of 7-10 is reassuring, below is concerning\n",
    "* Transfer to NICU\n",
    "* HIE (hypoxic ischemic encephalopthy)"
   ]
  },
  {
   "cell_type": "code",
   "execution_count": 4,
   "metadata": {},
   "outputs": [
    {
     "data": {
      "text/plain": [
       "pH\n",
       "False    375\n",
       "True     177\n",
       "Name: count, dtype: int64"
      ]
     },
     "execution_count": 4,
     "metadata": {},
     "output_type": "execute_result"
    }
   ],
   "source": [
    "fetal_acidemia = meta.loc['pH'] < 7.2\n",
    "fetal_acidemia.value_counts()"
   ]
  },
  {
   "cell_type": "code",
   "execution_count": 5,
   "metadata": {},
   "outputs": [
    {
     "data": {
      "text/plain": [
       "pH\n",
       "False    532\n",
       "True      20\n",
       "Name: count, dtype: int64"
      ]
     },
     "execution_count": 5,
     "metadata": {},
     "output_type": "execute_result"
    }
   ],
   "source": [
    "sig_fetal_acidemia = meta.loc['pH'] < 7\n",
    "sig_fetal_acidemia.value_counts()"
   ]
  },
  {
   "cell_type": "code",
   "execution_count": 6,
   "metadata": {},
   "outputs": [
    {
     "data": {
      "text/plain": [
       "False    529\n",
       "True      23\n",
       "Name: count, dtype: int64"
      ]
     },
     "execution_count": 6,
     "metadata": {},
     "output_type": "execute_result"
    }
   ],
   "source": [
    "# No lacatate apparent in metadata\n",
    "metabolic_acidosis = np.logical_and(meta.loc['pH'] < 7.05,\n",
    "                                    meta.loc['BDecf'] > 10)\n",
    "metabolic_acidosis.value_counts()"
   ]
  },
  {
   "cell_type": "code",
   "execution_count": 7,
   "metadata": {},
   "outputs": [
    {
     "data": {
      "text/plain": [
       "Apgar5\n",
       "False    533\n",
       "True      19\n",
       "Name: count, dtype: int64"
      ]
     },
     "execution_count": 7,
     "metadata": {},
     "output_type": "execute_result"
    }
   ],
   "source": [
    "apgar = meta.loc['Apgar5'] < 7\n",
    "apgar.value_counts()"
   ]
  },
  {
   "cell_type": "code",
   "execution_count": 8,
   "metadata": {},
   "outputs": [
    {
     "data": {
      "text/plain": [
       "NICU days\n",
       "0.0    552\n",
       "Name: count, dtype: int64"
      ]
     },
     "execution_count": 8,
     "metadata": {},
     "output_type": "execute_result"
    }
   ],
   "source": [
    "meta.loc['NICU days'].value_counts()"
   ]
  },
  {
   "cell_type": "code",
   "execution_count": 9,
   "metadata": {},
   "outputs": [
    {
     "data": {
      "text/plain": [
       "HIE\n",
       "0.0    552\n",
       "Name: count, dtype: int64"
      ]
     },
     "execution_count": 9,
     "metadata": {},
     "output_type": "execute_result"
    }
   ],
   "source": [
    "meta.loc['HIE'].value_counts()"
   ]
  },
  {
   "cell_type": "code",
   "execution_count": 10,
   "metadata": {},
   "outputs": [
    {
     "data": {
      "text/plain": [
       "Apgar5\n",
       "False    525\n",
       "True      27\n",
       "Name: count, dtype: int64"
      ]
     },
     "execution_count": 10,
     "metadata": {},
     "output_type": "execute_result"
    }
   ],
   "source": [
    "np.logical_or(sig_fetal_acidemia, metabolic_acidosis, apgar).value_counts()"
   ]
  }
 ],
 "metadata": {
  "kernelspec": {
   "display_name": "ctg",
   "language": "python",
   "name": "python3"
  },
  "language_info": {
   "codemirror_mode": {
    "name": "ipython",
    "version": 3
   },
   "file_extension": ".py",
   "mimetype": "text/x-python",
   "name": "python",
   "nbconvert_exporter": "python",
   "pygments_lexer": "ipython3",
   "version": "3.10.13"
  },
  "orig_nbformat": 4
 },
 "nbformat": 4,
 "nbformat_minor": 2
}
