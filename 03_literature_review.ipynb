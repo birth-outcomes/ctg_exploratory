{
 "cells": [
  {
   "cell_type": "markdown",
   "metadata": {},
   "source": [
    "# Literature review\n",
    "\n",
    "This is an informal review of papers predicting fetal outcomes based on FHR and/or UC signals from CTG."
   ]
  },
  {
   "cell_type": "markdown",
   "metadata": {},
   "source": [
    "## Review papers\n",
    "\n",
    "* [Georgieva et al. 2019](https://doi.org/10.1111/aogs.13639) - Computer-based intrapartum fetal monitoring and beyond: A review of the 2nd Workshop on Signal Processing and Monitoring in Labor (October 2017, Oxford, UK)\n",
    "* [M-Barek et al. 2022](https://doi.org/10.1111/aogs.14498) - Computerized cardiotocography analysis during labor – A state-of-the-art review\n",
    "* [Mendis et al. 2023](https://doi.org/10.3390/bioengineering10091007) - Computerised Cardiotocography Analysis for the Automated Detection of Fetal Compromise during Labour: A Review\n",
    "* [O'Sullivan et al. 2021](https://doi.org/10.3389/frai.2021.765210) - Challenges of Developing Robust AI for Intrapartum Fetal Heart Rate Monitoring"
   ]
  },
  {
   "cell_type": "markdown",
   "metadata": {},
   "source": [
    "## CTG datasets\n",
    "\n",
    "Summary of other CTG datasets, compared with the CTU-UHB dataset, created with support from [M'Barek et al. 2023](https://www.ncbi.nlm.nih.gov/pmc/articles/PMC10311205/) and [Mendis et al. 2023](https://www.ncbi.nlm.nih.gov/pmc/articles/PMC10525263/).\n",
    "\n",
    "### Raw recordings\n",
    "\n",
    "| Dataset and links | Record number | Format of signal data | Outcome | Availability |\n",
    "| --- | --- | --- | --- | --- |\n",
    "| CTU-UHB dataset - [link](https://physionet.org/content/ctu-uhb-ctgdb/1.0.0/) | 552 records<br>(40 with pH < 7.05) | Raw FHR and UC at 4Hz (with annotation of 5 features also available) recorded with ultrasound and/or scalp electrode | pH, base deficit, Apgar (with expert annotation performed but not available) | Public |\n",
    "| Signal Processing and Monitoring (SPaM) dataset with data from Lyon, Brn and Oxford, from the SPaM workshop - [link to data](https://users.ox.ac.uk/~ndog0178/CTGchallenge2017.pdf) and [link to workshop paper](https://www.ncbi.nlm.nih.gov/pmc/articles/PMC7135636/) | 300 records<br>(80% pH 7.25 to 7.3, 20% pH < 7.05) | Raw FHR and UC recordings at 4Hz (I think) | pH | Unclear - but available to download online and used in  e.g. M-Barek et al. 2023.[[source]](https://www.ncbi.nlm.nih.gov/pmc/articles/PMC10311205/) |\n",
    "| Beaujon dataset (University Hospital Beaujon) - [link](https://www.ncbi.nlm.nih.gov/pmc/articles/PMC10311205/) | 675 (42 with pH < 7.05) | Raw FHR and UC | At least pH, Apgar1, Apgar5 | Unclear (presume private) but is 2023 paper and says data will be made available |\n",
    "| Lyon dataset - [link](https://www.springerprofessional.de/en/advanced-signal-processing-techniques-for-ctg-analysis/9836400) | 1288 | Raw FHR and UC at 10Hz | pH | Private |\n",
    "| Oxford dataset - [link](https://openaccess.sgul.ac.uk/id/eprint/111360/1/08788528.pdf) | 35,429 | Raw FHR and UC at 4Hz | pH | Private |\n",
    "| Dataset in [Cao et al. 2023](https://link.springer.com/article/10.1007/s13755-023-00219-w) and [Fei et al. 2022](https://doi.org/10.1016/j.bspc.2022.104008) - collaborating hospitals (likely in China) | 16355 records<br>(11998 normal, 4326 suspicious, 31 pathological) | Raw FHR and UC recorded with SRF618A pro fetal monitor at 1.25 Hz | Classification as normal, suspicious or pathological | Unclear (presume private) |\n",
    "\n",
    "### Features\n",
    "| Dataset and links | Record number | Format of signal data | Outcome | Availability |\n",
    "| --- | --- | --- | --- | --- |\n",
    "| University of California Irvine Machine Learning (UCI ML) Repository Cardiotocography Dataset - [link](https://archive.ics.uci.edu/dataset/193/cardiotocography) | 2126 (1655 normal, 295 suspect, 176 pathologic) | Features of FHR and UC (e.g. baseline, accelerations, movements, contractions) | Classification by 3 expert obstetricians as normal, suspect or pathological | Public |\n",
    "| FHR morphological analysis (FHRMA) dataset - [link](https://www.sciencedirect.com/science/article/pii/S2352711018302498) | 156 | Features of FHR (baseline, acceleration and deceleration) | None | Public[[source]](https://www.preprints.org/manuscript/201907.0039/v1) |\n",
    "\n",
    "### fECG datasets\n",
    "\n",
    "There are other monitoring techniques like fetal ECG. Examples of publicly available dataset on PhysioNet of fetal ECG (as from [this review](https://ieeexplore.ieee.org/document/8820039)):\n",
    "* The Abdominal and Direct Fetal ECG Database (ADFECGDB)\n",
    "* The Non-Invasive Fetal Electrocardiogram Database (NIFECGDB)\n",
    "* The 2013 PhysioNet/Computing in Cardiology Challenge Database\n",
    "* The Fetal ECG Synthetic Database (FECGSYNDB)\n",
    "* The Non-invasive Fetal ECG Arrhythmia Database (NIFEADB) "
   ]
  },
  {
   "cell_type": "markdown",
   "metadata": {},
   "source": [
    "## Methods using human-guided features (e.g. PICO guidelines acceleration, deceleration) of the signals\n",
    "\n",
    "| Paper | Dataset | Signal cleaning | Signal segmentation |Feature extraction | Feature selection | Outcome | Imbalance | Model |\n",
    "| --- | --- | --- | --- | --- | --- | --- | --- | --- |\n",
    "| [Abry et al. 2018](https://doi.org/10.1088/2057-1976/aabc64) - Sparse learning for Intrapartum fetal heart rate analysis | CTU-UHB and Lyon | Gestational age ≥37 weeks, maternal age ≥18, tracing ending less than 20 min before delivery, after-delivery pH measurement available, less than 50% of missing data in either stage of the delivery process. | Split into sets depending on duration of second stage - set one is second stage duration <>= 15 min corresponding to births during stage 1 or early stage 2 - and set two if duration of second stage > 15 min and so birth during (possibly long) second stage. Because pH measured at delivery can only be reminiscent of the health status of fetuses in the last minutes of labor, FHR analysis was only conducted in the last 20 min of either set. | 20 features (FIGO-like, classical spectral, and scale-free) | Feature sparsity in sparse support vector machine | pH <=7.05 acidotic, others normal | Modify penalisation term | Sparse support vector machine |\n",
    "| [Czabanski et al. 2023](https://doi.org/10.1016/j.asoc.2023.110790) - Refining the rule base of fuzzy classifier to support the evaluation of fetal condition | CTU-UHB | Unsure | Can't spot anything saying they did | 12 features determined by computerised fetal monitoring system, FHR features in time domain plus number of uterine contractions. Examples like mean FHR baseline, FHR accelerations per hour, etc. | No | pH <= 7.05, 7.10, 7.15 and 7.20 | Modified CPP | Two-stage TSK fuzzy classifier - first classifier labels normal or abnormal with highest accuracy - based on training set where pH 7.05 to 7.20 are removed |\n",
    "| [Das et al. 2023](https://doi.org/10.1038/s41598-023-27707-z) - A machine learning pipeline to classify foetal heart rate deceleration with optimal feature set | CTU-UHB | \n",
    "| [Frasch et al. 2021](https://doi.org/10.3389/fped.2021.736834) - Detection of Preventable Fetal Distress During Labor From Scanned Cardiotocogram Tracings Using Deep Learning | Dataset of 36 tracings |\n",
    "| [Fulcher et al. 2012](https://doi.org/10.1109/embc.2012.6346629) - Highly Comparative Fetal Heart Rate Analysis | Private dataset of 7568 records | | | Over  9000 features |  | pH |\n",
    "| [Georgoulas et al. 2017](https://doi.org/10.1007/s12553-017-0201-7) - Investigating pH based evaluation of fetal heart rate (FHR) recordings | CTU-UHB | | | | | pH <= 7.05 | | LS-SVM |\n",
    "| [Georgoulas et al. 2020](https://doi.org/10.1007/s11760-020-01727-y) - An exploratory approach to fetal heart rate–pH-based systems | CTU-UHB |\n",
    "| [Hussain et al. 2022](https://doi.org/10.3390/s22145103) - Accessing Artificial Intelligence for Fetus Health Status Using Hybrid Deep Learning Algorithm (AlexNet-SVM) on Cardiotocographic Data | UCI ML | NA | NA | | | | | Deep transfer learning, ADAM optimizer |\n",
    "| [Karvelis et al. 2015](https://doi.org/10.1088/0967-3334/36/5/1001) - Combining latent class analysis labeling with multiclass approach for fetal heart rate categorization | CTU-UHB | | | Morphological features (describing FHR morphology following FIGO guidelines) and ferques from other domains: time (mainly first and second order statistics), frequency (energy in spectral bands), and nonlinear (complexity, entropy, and fractal measures) | | From the original dataset three new datasets with binary labels are created. In the first one, the Normal class is placed against the remaining three classes that represent the 'Target' output. In the second one, the Normal and Normal/Suspicious classes are put together against the combined class of Suspicious/Pathological and Pathological cases, which now form the 'Target' class and finally in the third dataset the Pathological class, which is named the 'Target' class, is placed against the other three classes. | | Latent class analysis, logistic regression, decision tree |\n",
    "| [Leonarduzzi et al. 2015](https://doi.org/10.1007/978-3-319-13117-7_129) - p-Leader Based Classification of First Stage Intrapartum Fetal HRV | Lyon |\n",
    "| [Leonarduzzi et al. 2015](https://doi.org/10.1109/EMBC.2015.7318771) - P-leader multifractal analysis and sparse SVM for intrapartum fetal acidosis detection | Lyon |\n",
    "| [O'Sullivan et al. 2021](https://doi.org/10.23919/EUSIPCO54536.2021.9616289) - Classification of fetal compromise during labour: signal processing and feature engineering of the cardiotocograph |\n",
    "| [Parvathavarthine et al. 2020](https://ejmcm.com/uploads/paper/cb23111afa325b116bb41b476f33a0f7.pdf) - Optimized residual convolutional learning neural network for intrapartum maternal-embryo risk assessment | CTU-UHB | | | CTG viewerlite and RHRV package | Boruta, RFE, SA | pH 7.15 | | Optimised ResNet50 |\n",
    "| [Rahmayanti et al. 2022](https://doi.org/10.1016/j.procs.2021.12.130) - Comparison of machine learning algorithms to classify fetal health using cardiotocogram data | UCI ML |\n",
    "| [Spilka et al. 2013](https://doi.org/10.1007/978-3-642-40093-3_4) - Automatic Evaluation of FHR Recordings from CTU-UHB CTG Database | CTU-UHB |\n",
    "| [Spilka et al. 2014](https://doi.org/10.1007/978-3-319-07064-3_45) - Discriminating Normal from “Abnormal” Pregnancy Cases Using an Automated FHR Evaluation Method | CTU-UHB |\n",
    "| [Spilka et al. 2015](https://doi.org/10.1109/EMBC.2015.7318861) - Intrapartum fetal heart rate classification from trajectory in Sparse SVM feature space | Lyon |\n",
    "| [Spilka et al. 2016](https://doi.org/10.1007/978-3-319-32703-7_232) - Intrapartum Fetal Heart Rate Classification: Cross-Database Evaluation | Lyon and CTU-UHB |\n",
    "| [Spilka et al. 2017](https://doi.org/10.1109/JBHI.2016.2546312) - Sparse Support Vector Machine for Intrapartum Fetal Heart Rate Classification | Lyon |\n",
    "| [Stylios et al. 2016](https://doi.org/10.1007/978-3-319-32703-7_234) - Least Squares Support Vector Machines for FHR Classification and Assessing the pH Based Categorization - [full text](https://kic.uoi.gr/wp-content/uploads/2020/04/Least-Squares-Support-Vector-Machines-for-FHR-Classification.pdf) | CTU-UHB | Hermite spline interpolation to fill short gaps (<15 sec) | Last 30 minutes of 1st stage of labour | 54 features: morphological features trying to quantify FIGO rational (number of accelerations, number of decelerations, baseline value, etc.) and time-domain (measures of variability), frequency domain (energey at different frequency bands), non-linear domain (approximate entropy, sample entropy, lempel ziv complexity, fractal dimension, detrend fluctuations analysis, etc.) | Filter selection - sort features by AUC (as not affected by class imbalance) - then analysis with (a) top 3 features (b) top nine features, (c) all 54 features | pH <= 7.05 | Unequal penalty costs in LS-SVM | LS-SVM | \n",
    "| [Zhang et al. 2023](https://doi.org/10.1002/ijgo.15236) - Intelligent classification of cardiotocography based on a support vector machine and convolutional neural network: Multiscene research | Private dataset of 2542 records | | | | | | Dynamic threshold, SVM and CNN |\n",
    "| [Zhao et al. 2018](https://doi.org/10.3390/jcm7080223) - A Comprehensive Feature Analysis of the Fetal Heart Rate Signal for the Intelligent Assessment of Fetal State | CTU-UHB | | CAS-FHR | Chose 47 most comprehensive features | | | Decision tree, support vector machine, and adaptive boosting |\n",
    "\n",
    "These papers are on extracting features rather than classifying whole signal -\n",
    "* [Lu et al. 2019](https://doi.org/10.1016/j.future.2019.07.052) - A framework for intelligent analysis of digital cardiotocographic signals from IoMT-based foetal monitoring\n",
    "* [Das et al. 2023](https://doi.org/10.1038/s41598-023-27707-z) - A machine learning pipeline to classify foetal heart rate deceleration with optimal feature set (uses CTU-UHB)\n",
    "\n",
    "This uses a few indicators from CTG (I think pre-early stage?) - https://obgyn.onlinelibrary.wiley.com/doi/10.1111/1471-0528.17669"
   ]
  },
  {
   "cell_type": "markdown",
   "metadata": {},
   "source": [
    "## Methods that do not involve making human-guided features (e.g. deep learning)\n",
    "\n",
    "| Paper | Dataset | Signal cleaning | Signal segmentation | Signal transformation | Outcome | Imbalance | Model | Software | \n",
    "| --- | --- | --- | --- | --- | --- | --- | --- | --- |\n",
    "| [Baghel et al. 2022](https://doi.org/10.1016/j.bspc.2021.102794) - 1D-FHRNet: Automatic Diagnosis of Fetal Acidosis from Fetal Heart Rate Signals | CTU-UHB | Signal filtering (Gaussian butter worth bandpass filter, high-cut at 20 Hz, low-cut at 200 Hz, Gaussian parameter 5 to blur filter edges). Conversion into 19200 vectors by resampling. | No (describes mean signal length as 62 second but don't see why as appears to use full signal) | STFT producing dB-scaled spectogram | pH < 7.15 | 105 abnormal 447 healthy | CNN | Python |\n",
    "| [Bursa and Lhotska 2017](https://doi.org/10.1007/978-3-319-64265-9_9) - The Use of Convolutional Neural Networks in Biomedical Data Processing | CTU-UHB | No filtering or artefact removal | Not described though figures show 5000-19,000 quarter of a second. Exclude record 4004 due to error in FFT | FFT with varying window lengths (though didn't pursue as accelerations and decelerations didn't respond to shapes in spectogram, and visual inspection of UC didn't bring much info). CWT using Morlet wavelet with omega 4 or 8. | pH <= 7.15 | 1756 normal and 448 pathological | CNN | ? |\n",
    "| [Cao et al. 2023](https://doi.org/10.1007/s13755-023-00219-w) - Intelligent antepartum fetal monitoring via deep learning and fusion of cardiotocographic signals and clinical data | Private dataset with 16355 records | FHR deleted outliers, interpolation, standardisation (pre-treatment result - fetal heart baseline). UC interpolated or deleted simultaneously. | Last 15 minutes | No | Expert classification of normal or abnormal (suspicious or pathological) | No? | Multimodal deep learning architecture - first a CNN model (6 layers) with FHR and UC signals, then LGBM with gestational and maternal age added | Python |\n",
    "| [Cömert and Kocamaz 2016](https://www.ijcaonline.org/archives/volume156/number4/c%C3%B6mert-2016-ijca-912417.pdf) - Evaluation of Fetal Distress Diagnosis during Delivery Stages based on Linear and Nonlinear Features of Fetal Heart Rate for Neural Network Community | CTU-UHB | Determine missing beats, interpolate, smooth signal with DWT, detrend | Divided into 4 parts | Extract 8 linear and 5 non-linear features with formulae provided | Normal, suspcious, pathological or uninterpretable | Analysis steps N S P U I 272 230 44 6 II 195 267 86 4 III 106 160 71 215 | Artifical neural network with 10-fold CV | ? |\n",
    "| [Cömert and Kocamaz 2016](http://medya.beu.edu.tr/YazarMedya/180/22901_2016_10_8_74fa1a68.pdf) - A Study Based on Gray Level Co-Occurrence Matrix and Neural Network Community for Determination of Hypoxic Fetuses | CTU-UHB |\n",
    "| [Cömert et al. 2018](https://doi.org/10.1007/978-3-319-91186-1_25) - Fetal Hypoxia Detection Based on Deep Convolutional Neural Network with Transfer Learning Approach | CTU-UHB | Remove gaps > 15s, use cubic spline interpolation to fill small gaps, standard median filter to softer, outlier detection algorithm from Romano et al. 2013, de-trend signal | | STFT with 4 intervals (0-0.03Hz, 0.03-0.15Hz, 0.15-0.5Hz, 0.5-1Hz) | | | | |\n",
    "| [Cömert et al. 2018](https://doi.org/10.1016/j.compbiomed.2018.06.003) - Prognostic model based on image-based time-frequency features and genetic algorithm for fetal hypoxia assessment | CTU-UHB |\n",
    "| [Cömert et al. 2018](https://doi.org/10.1109/SIU.2018.8404243) - Performance evaluation of Empirical Mode Decomposition and Discrete Wavelet Transform for computerized hypoxia detection and prediction | CTU-UHB | Undesired components problem solved using CTG-OAS (removed 15s gaps, interpolated missing with cubic Hermite spline interpolation, median filter to soften signal, detect and correct outliers, detrend) | Last part of first stage of labour | Empirical Mode Decomposition (EMD) and Discrete Wavelet Transform (DWT) | pH <= 7.15 | | SVM |  MATLAB |\n",
    "| [Daydulo et al. 2022](https://doi.org/10.1186/s12911-022-02068-1) - Deep learning based fetal distress detection from time frequency representation of cardiotocogram signal using Morse wavelet: research study | CTU-UHB | Remove > 15s, remove missing at beginning and end, outliers 50bpm and 200bpm, outliers and small gaps filled with linear interpolation, spikes where 25bpm from adjacent beat removed using cubic spline interpolation | First 20 minutes (4800) and last 15 minutes (3600) to represent first and second stage | CWT with Generalised Morse Wavelet, Fs 4Hz, gamma 3, p-squared 60 and 55, voice for octave 12 | pH <= 7.15 | Threshold means 439 normal and 113 distressed. Ruled out undersampling minority due to amunt of data. Instead used slicing augmentation (which is same as image cropping augmentation) and involves augmenting by removing or adding time steps from pattern ends, so minority class oversampling by slicing shifting background 5 minute 2 times (to create slice of 20-min and slice of 15-min window) - 878 normal class and 678 distressed | ResNet50 (transfer learning, deep neural net) | MATLAB |\n",
    "| [Fei et al. 2022](https://doi.org/10.1016/j.bspc.2022.104008) - Intelligent classification of antenatal cardiotocography signals via multimodal bidirectional gated recurrent units | Private dataset with 16355 records | FHR deleted outliers, interpolation, standardisation (pre-treatment result - fetal heart baseline). UC interpolated or deleted simultaneously. | 15 minute signals | | | Window sliding with 3 min width so 11889 normal and 11889 abnormal | Multimodal bidirectional gated recurrent units (MBiGRU) model | | |\n",
    "| [Feng et al. 2018](https://doi.org/10.1109/NEUREL.2018.8586992) - Supervised and Unsupervised Learning of Fetal Heart Rate Tracings with Deep Gaussian Processes | CTU-UHB | Spilka 2013 algorithm to reduce noise | Last 30 minutes for supervised, first 30 minutes for unsupervised | Supervised created features. FHR was time-domain (mean, SD, STV, STI, LTV), non-linear (Poincare SD1, Poincare SD2, CCM), frequency domain (VLF, LF, MF, HF, ratio. UC was contraction number, contraction duration, increased donus, interval, rest time. Unsupervised used raw FHR recordings. | Supervised use pH < 7.1 unhealthy and pH > 7.2 healthy. Unsupervised had no outcome. | | Suprevised used SVM and DGP. Unsupervised used DGP. |  |\n",
    "| [Feng et al. 2022](https://doi.org/10.3389/fbioe.2022.1057807) - Cardiotocography analysis by empirical dynamic modeling and Gaussian processes | CTU-UHB | | | | | | | |\n",
    "| [Fergus et al. 2019](https://doi.org/10.48550/arXiv.1908.02338) - Modelling Segmented Cardiotocography Time-Series Signals Using One-Dimensional Convolutional Neural Networks for the Early Detection of Abnormal Birth Outcomes |\n",
    "| [Kuo et al. 2021](https://doi.org/10.1007/s40846-021-00642-y) - Combination of XGBoost Analysis and Rule-Based Method for Intrapartum Cardiotocograph Classification | Private dataset of 60 records | | | | | | | |\n",
    "| [Lian and Li 2021](https://doi.org/10.1109/ICTC51749.2021.9441583) - Automatic Evaluation of Fetal Heart Rate Based on Deep Learning | CTU-UHB | Set <50bpm and >200bpm as missing, more than 15s missing deleted, Hermite spline interpolation of remaining gaps, standard median filter to smooth. Downsampled to 1Hz. Standardised by baseline of token signal. | Last 30 minutes of signals, then split into 6 fragments | | pH < 7.05 | Multiple models | CNN (compared against SVM on FIGO-based, time, frequency and non-linear features) | \n",
    "| [Liu et al. 2021](https://doi.org/10.1016/j.eswa.2021.115714) - An attention-based CNN-BiLSTM hybrid neural network enhanced with features of discrete wavelet transformation for fetal acidosis classification | CTU-UHB | | | | | | | |\n",
    "| [M'Barek et al. 2023](https://doi.org/10.3389/fped.2023.1190441) - DeepCTG® 1.0: an interpretable model to detect fetal hypoxia from cardiotocography data during labor and delivery| Three dataset: CTU-UHB, SPaM, and Beaujon | | | | | | | |\n",
    "| [Ogasawara et al. 2021](https://doi.org/10.1038/s41598-021-92805-9) - Deep neural network-based classification of cardiotocograms outperformed conventional algorithms. Note: This includes conventional (human-guided features) and deep-learning | | Remove records shorter than 30 min or with more than 16% signal loss. For conventional, pre-processing with denoising, smoothing, Hilbert transform, peak detection. | Deep neural used last 1800 time points (downsample at 1Hz for 30min) | | pH < 7.2 or Apgar1min < 7 |Chose 162 normal cases, as there were 162 abnormal | Conventional used non-linear SVM and K-means clustering. Deep neural used CCN-based and LSTM-based models. |  Python |\n",
    "| [Park et al. 2022](https://doi.org/10.3349%2Fymj.2022.63.7.692) - Machine Learning Model for Classifying the Results of Fetal Cardiotocography Conducted in High-Risk Pregnancies | Private dataset of 17493 records and CTU-UHB | | | Random convolutional kernal transform | Reactive and mild variable deceleration normal, and all others (non-reactive, early deceleration, other variable deceleration, late deceleration and prolonged deceleration) labeled as abnormal | | | |\n",
    "| [Petrozziello et al. 2018](https://doi.org/10.1109/EMBC.2018.8513625) - Deep Learning for Continuous Electronic Fetal Monitoring in Labor | Oxford and CTU-UHB | | | | | | LSTM and CNN |\n",
    "| [Petrozziello et al. 2019](https://doi.org/10.1109/ACCESS.2019.2933368) - Multimodal Convolutional Neural Networks to Detect Fetal Compromise During Labor and Delivery | Oxford, SPaM and CTU-UHB | | | | | | Multimodal Convolutional Neural Network (MCNN) and Stacked MCNN models |\n",
    "| [Yu et al. 2017](https://doi.org/10.1371/journal.pone.0185417) - Dynamic classification of fetal heart rates by hierarchical Dirichlet process mixture models | CTU-UHB | | | | | | Hierarchical Dirichlet processes (HDP) and the Chinese restaurant process with finite capacity (CRFC) | |\n",
    "| [Zarmehri et al. 2019](https://doi.org/10.1016/j.compbiomed.2019.04.041) - On the prediction of foetal acidaemia: A spectral analysis-based approach | CTU-UHB | Set <60bpm, >200bpm, and consecutive differences > 25bpm to missing. If less than 2s then linear interpolation. If longer, subtitue with previous segment of sample length. Signals normalised and periodogram method applied. | Discard last 5min of recording, and use final 50 min | FFT | pH <=7.05, or pH <= 7.05 and BE <= -10 mmol/L | No? | Don't understand but look at min/max freq amplitude values, for p-numbers 1-10 and Newton method of successive approximations, minimum amplitude cut-off, classify signals as abnormal, and likewise for maximum amplitude | MATLAB and R |\n",
    "| [Zeng et al. 2021](https://doi.org/10.1016/j.compbiomed.2021.104218) - Cardiotocography signal abnormality classification using time-frequency features and Ensemble Cost-sensitive SVM classifier | CTU-UHB | Set missing if FHR <=50bpm or >=200bpm, and if UC change <1mmHg over 15s. Calculate quality score based on missing segments. Remove low quality. For better quality, short missing segments (<=15s) filled with linear interpolation, and longer filled with spline interpolation, then detect abnormal (5 consecutive points changing > 25bpm) and linear interpolation| Last 30 minutes from first stage of labour | Continuous Wavelet Transform (CWT), Wavelet Coherence (WTC), and Cross-wavelet Transform (XWT). Then novel image descriptor to extract TF features, and linear feature derived from time-domain representation | pH <= 7.05 and base excess <= -10 mmol/L | | ECSVM classifier |  |\n",
    "| [Zhao et al. 2019](https://doi.org/10.3389/fphys.2019.00255) - Computer-Aided Diagnosis System of Fetal Hypoxia Incorporating Recurrence Plot With Convolutional Neural Network | CTU-UHB | | | | | | | |\n",
    "| [Zhao et al. 2019](https://doi.org/10.1186/s12911-019-1007-5) - DeepFHR: intelligent prediction of fetal Acidemia using fetal heart rate signals based on convolutional neural network | CTU-UHB | Spline interpolation when FHR 0, if FHR 0 > 15s then remove, interpolation when difference between points > 25bpm, cubic spline interpolation to remove values <50bpm and >200bpm | | CWT with db and sym wavelets, order 2 and scales 4, 5, 6 | ph 7.15 |Multiple wavelet scales increases number of normal and abnormal cases | | |"
   ]
  },
  {
   "cell_type": "markdown",
   "metadata": {},
   "source": [
    "## Detection of anomalies in time series data\n",
    "\n",
    "Yang et al. 2021 - Unsupervised Detection of Anomalies in Fetal Heart Rate - This paper focuses on detection of anomalies in time series using phase space reconstruction and manifolds, tested on CTU-UHB data."
   ]
  },
  {
   "cell_type": "markdown",
   "metadata": {},
   "source": [
    "## Expert evaluation\n",
    "\n",
    "[Spilka et al. 2014](https://doi.org/10.1016/j.jbi.2014.04.010) - Analysis of obstetricians’ decision making on CTG recordings -\n",
    "* Interpretation of cardiotocogram (CTG) is a difficult task since its evaluation is complicated by a great inter- and intra-individual variability. Previous studies have predominantly analyzed clinicians’ agreement on CTG evaluation based on quantitative measures (e.g. kappa coefficient) that do not offer any insight into clinical decision making. In this paper we aim to examine the agreement on evaluation in detail and provide data-driven analysis of clinical evaluation.\n",
    "* For this study, nine obstetricians provided clinical evaluation of 634 CTG recordings (each ca. 60 min long). We studied the agreement on evaluation and its dependence on the increasing number of clinicians involved in the final decision. We showed that despite of large number of clinicians the agreement on CTG evaluations is difficult to reach. The main reason is inherent inter- and intra-observer variability of CTG evaluation.\n",
    "* Latent class model provides better and more natural way to aggregate the CTG evaluation than the majority voting especially for larger number of clinicians. Significant improvement was reached in particular for the pathological evaluation – giving a new insight into the process of CTG evaluation. Further, the analysis of latent class model revealed that clinicians unconsciously use four classes when evaluating CTG recordings, despite the fact that the clinical evaluation was based on FIGO guidelines where three classes are defined.\n",
    "\n",
    "[Hruban et al. 2015](https://doi.org/10.1111/jep.12368) - Agreement on intrapartum cardiotocogram recordings between expert obstetricians -\n",
    "* Rationale, aims and objectives: To evaluate obstetricians' inter- and intra-observer agreement on intrapartum cardiotocogram (CTG) recordings and to examine obstetricians' evaluations with respect to umbilical artery pH and base deficit.\n",
    "* Methods: Nine experienced obstetricians annotated 634 intrapartum CTG recordings. The evaluation of each recording was divided into four steps: evaluation of two 30-minute windows in the first stage of labour, evaluation of one window in the second stage of labour and labour outcome prediction. The complete set of evaluations used for this experiment is available online. The inter- and intra-observer agreement was evaluated using proportion of agreement and kappa coefficient. Clinicians' sensitivity and specificity was computed with respect to umbilical artery pH, base deficit and to Apgar score at the fifth minute.\n",
    "* Results: The overall proportion of agreement between clinicians reached 48% with 95% confidence intervals (CI) (CI: 47-50). Regarding the different classes, proportion of agreement ranged from 57% (CI: 54-60) for normal to 41% (CI: 36-46) for pathological class. The sensitivity of clinicians' majority vote to objective outcome was 39% (CI: 16-63) for the umbilical artery base deficit and 27% (CI: 16-42) for pH. The specificity was 89% (CI: 86-92) for both types of objective outcome.\n",
    "* Conclusions: The reported inter-/intra-observer variability is large and this holds irrespective of clinicians' experience or work place. The results support the need of modernized guidelines for CTG evaluation and/or objectivization and repeatability by introduction of a computerized approach that could standardize the process of CTG evaluation within the delivery ward."
   ]
  }
 ],
 "metadata": {
  "kernelspec": {
   "display_name": "ctg",
   "language": "python",
   "name": "python3"
  },
  "language_info": {
   "codemirror_mode": {
    "name": "ipython",
    "version": 3
   },
   "file_extension": ".py",
   "mimetype": "text/x-python",
   "name": "python",
   "nbconvert_exporter": "python",
   "pygments_lexer": "ipython3",
   "version": "3.10.13"
  }
 },
 "nbformat": 4,
 "nbformat_minor": 2
}
