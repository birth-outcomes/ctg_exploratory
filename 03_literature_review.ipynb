{
 "cells": [
  {
   "cell_type": "markdown",
   "metadata": {},
   "source": [
    "# Literature review\n",
    "\n",
    "This is an informal review of papers predicting fetal outcomes based on FHR and/or UC signals from CTG."
   ]
  },
  {
   "cell_type": "markdown",
   "metadata": {},
   "source": [
    "## Review papers\n",
    "\n",
    "* [Georgieva et al. 2019](https://doi.org/10.1111/aogs.13639) - Computer-based intrapartum fetal monitoring and beyond: A review of the 2nd Workshop on Signal Processing and Monitoring in Labor (October 2017, Oxford, UK)\n",
    "* [M-Barek et al. 2022](https://doi.org/10.1111/aogs.14498) - Computerized cardiotocography analysis during labor – A state-of-the-art review\n",
    "* [Mendis et al. 2023](https://doi.org/10.3390/bioengineering10091007) - Computerised Cardiotocography Analysis for the Automated Detection of Fetal Compromise during Labour: A Review\n",
    "* [O'Sullivan et al. 2021](https://doi.org/10.3389/frai.2021.765210) - Challenges of Developing Robust AI for Intrapartum Fetal Heart Rate Monitoring"
   ]
  },
  {
   "cell_type": "markdown",
   "metadata": {},
   "source": [
    "## CTG datasets\n",
    "\n",
    "Summary of other CTG datasets, compared with the CTU-CHB dataset, created with support from [M'Barek et al. 2023](https://www.ncbi.nlm.nih.gov/pmc/articles/PMC10311205/) and [Mendis et al. 2023](https://www.ncbi.nlm.nih.gov/pmc/articles/PMC10525263/).\n",
    "\n",
    "| Dataset and links | Record number | Format of signal data | Outcome | Availability |\n",
    "| --- | --- | --- | --- | --- |\n",
    "| CTU-UHB dataset - [link](https://physionet.org/content/ctu-uhb-ctgdb/1.0.0/) | 552 records<br>(40 with pH < 7.05) | Raw FHR and UC at 4Hz (with annotation of 5 features also available) | pH, base deficit, Apgar (with expert annotation performed but not available) | Public |\n",
    "| Signal Processing and Monitoring (SPaM) dataset with data from Lyon, Brn and Oxford, from the SPaM workshop - [link to data](https://users.ox.ac.uk/~ndog0178/CTGchallenge2017.pdf) and [link to workshop paper](https://www.ncbi.nlm.nih.gov/pmc/articles/PMC7135636/) | 300 records<br>(80% pH 7.25 to 7.3, 20% pH < 7.05) | Raw FHR and UC recordings at 4Hz (I think) | pH | Unclear - but available to download online and used in  e.g. M-Barek et al. 2023.[[source]](https://www.ncbi.nlm.nih.gov/pmc/articles/PMC10311205/) |\n",
    "| Beaujon dataset (University Hospital Beaujon) - [link](https://www.ncbi.nlm.nih.gov/pmc/articles/PMC10311205/) | 675 (42 with pH < 7.05) | Raw FHR and UC | At least pH, Apgar1, Apgar5 | Unclear (presume private) but is 2023 paper and says data will be made available |\n",
    "| Lyon dataset - [link](https://www.springerprofessional.de/en/advanced-signal-processing-techniques-for-ctg-analysis/9836400) | 1288 | Raw FHR and UC at 10Hz | pH | Private |\n",
    "| Oxford dataset - [link](https://openaccess.sgul.ac.uk/id/eprint/111360/1/08788528.pdf) | 35,429 | Raw FHR and UC at 4Hz | pH | Private |\n",
    "| University of California Irvine Machine Learning (UCI ML) Repository Cardiotocography Dataset - [link](https://archive.ics.uci.edu/dataset/193/cardiotocography) | 2126 (1655 normal, 295 suspect, 176 pathologic) | Features of FHR and UC (e.g. baseline, accelerations, movements, contractions) | Classification by 3 expert obstetricians as normal, suspect or pathological | Public |\n",
    "| FHR morphological analysis (FHRMA) dataset - [link](https://www.sciencedirect.com/science/article/pii/S2352711018302498) | 156 | Features of FHR (baseline, acceleration and deceleration) | None | Public[[source]](https://www.preprints.org/manuscript/201907.0039/v1) |\n",
    "| Dataset in Cao et al. 2023 - [link](https://link.springer.com/article/10.1007/s13755-023-00219-w) | 16355 records<br>(11998 normal, 4326 suspicious, 31 pathological) | Raw FHR and UC recorded with SRF618A pro fetal monitor at 1.25 Hz | Classification as normal, suspicious or pathological | Unclear (presume private) |\n",
    "\n",
    "There are other monitoring techniques like fetal ECG. Examples of publicly available dataset on PhysioNet of fetal ECG (as from [this review](https://ieeexplore.ieee.org/document/8820039)):\n",
    "* The Abdominal and Direct Fetal ECG Database (ADFECGDB)\n",
    "* The Non-Invasive Fetal Electrocardiogram Database (NIFECGDB)\n",
    "* The 2013 PhysioNet/Computing in Cardiology Challenge Database\n",
    "* The Fetal ECG Synthetic Database (FECGSYNDB)\n",
    "* The Non-invasive Fetal ECG Arrhythmia Database (NIFEADB) "
   ]
  },
  {
   "cell_type": "markdown",
   "metadata": {},
   "source": [
    "## Methods using human-guided features (e.g. PICO guidelines acceleration, deceleration) of the signals\n",
    "\n",
    "| Paper | Dataset | Feature creation | Model | Outcome |\n",
    "| --- | --- | --- | --- | --- |\n",
    "| [Abry et al. 2018](https://doi.org/10.1088/2057-1976/aabc64) - Sparse learning for Intrapartum fetal heart rate analysis | CTU-UHB and Lyon | | |\n",
    "| [Czabanski et al. 2023](https://doi.org/10.1016/j.asoc.2023.110790) - Refining the rule base of fuzzy classifier to support the evaluation of fetal condition | CTU-CHB | 12 features in time domain | Fuzzy classifier |\n",
    "| [Das et al. 2023](https://doi.org/10.1038/s41598-023-27707-z) - A machine learning pipeline to classify foetal heart rate deceleration with optimal feature set | CTU-UHB | \n",
    "| [Georgoulas et al. 2017](https://doi.org/10.1007/s12553-017-0201-7) - Investigating pH based evaluation of fetal heart rate (FHR) recordings | CTU-UHB | | LS-SVM | pH <= 7.05 |\n",
    "| [Hussain et al. 2022](https://doi.org/10.3390/s22145103) - Accessing Artificial Intelligence for Fetus Health Status Using Hybrid Deep Learning Algorithm (AlexNet-SVM) on Cardiotocographic Data | UCI ML | Pre-created for this dataset | Deep transfer learning, ADAM optimizer |\n",
    "| [Zhang et al. 2023](https://doi.org/10.1002/ijgo.15236) - Intelligent classification of cardiotocography based on a support vector machine and convolutional neural network: Multiscene research | Private dataset of 2542 records | | Dynamic threshold, SVM and CNN | |\n",
    "| [Zhao et al. 2018](https://doi.org/10.3390/jcm7080223) - A Comprehensive Feature Analysis of the Fetal Heart Rate Signal for the Intelligent Assessment of Fetal State | CTU-UHB | CAS-FHR and chose 47 most comprehensive features | Decision tree, support vector machine, and adaptive boosting |\n",
    "\n",
    "These papers are on extracting features rather than classifying whole signal -\n",
    "* [Lu et al. 2019](https://doi.org/10.1016/j.future.2019.07.052) - A framework for intelligent analysis of digital cardiotocographic signals from IoMT-based foetal monitoring\n",
    "* [Das et al. 2023](https://doi.org/10.1038/s41598-023-27707-z) - A machine learning pipeline to classify foetal heart rate deceleration with optimal feature set (uses CTU-UHB)\n",
    "\n",
    "This uses a few indicators from CTG (I think pre-early stage?) - https://obgyn.onlinelibrary.wiley.com/doi/10.1111/1471-0528.17669"
   ]
  },
  {
   "cell_type": "markdown",
   "metadata": {},
   "source": [
    "## Deep learning methods using the signals\n",
    "\n",
    "| Paper | Dataset | Signal cleaning | Signal segmentation | Signal transformation | Dealing with imbalance | Model | Outcome | Software | \n",
    "| --- | --- | --- | --- | --- | --- | --- | --- | --- |\n",
    "| [Baghel et al. 2022](https://doi.org/10.1016/j.bspc.2021.102794) - 1D-FHRNet: Automatic Diagnosis of Fetal Acidosis from Fetal Heart Rate Signals | CTU-UHB | Signal filtering (Gaussian butter worth bandpass filter, high-cut at 20 Hz, low-cut at 200 Hz, Gaussian parameter 5 to blur filter edges). Conversion into 19200 vectors by resampling. | | STFT producing dB-scaled spectogram |  | CNN | pH < 7.15 | Python |\n",
    "| [Bursa and Lhotska 2017](https://doi.org/10.1007/978-3-319-64265-9_9) - The Use of Convolutional Neural Networks in Biomedical Data Processing | CTU-UHB | | | | | | | |\n",
    "| [Cao et al. 2023](https://doi.org/10.1007/s13755-023-00219-w) - Intelligent antepartum fetal monitoring via deep learning and fusion of cardiotocographic signals and clinical data | Private dataset with 16355 records | FHR deleted outliers, interpolation, standardisation (pre-treatment result - fetal heart baseline). UC interpolated or deleted simultaneously. | Last 15 minutes | No | No? | Multimodal deep learning architecture - first a CNN model (6 layers) with FHR and UC signals, then LGBM with gestational and maternal age added | Expert classification of normal or abnormal (suspicious or pathological) | |\n",
    "| [Comert and Kocamaz 2018](https://doi.org/10.1007/978-3-319-91186-1_25) - Fetal Hypoxia Detection Based on Deep Convolutional Neural Network with Transfer Learning Approach | CTU-CHB | | | | | | | |\n",
    "| [Daydulo et al. 2022](https://doi.org/10.1186/s12911-022-02068-1) - Deep learning based fetal distress detection from time frequency representation of cardiotocogram signal using Morse wavelet: research study | CTU-CHB | | | | | | | |\n",
    "| [Fei et al. 2022](https://doi.org/10.1016/j.bspc.2022.104008) - Intelligent classification of antenatal cardiotocography signals via multimodal bidirectional gated recurrent units | Private dataset with 16355 records | FHR deleted outliers, interpolation, standardisation (pre-treatment result - fetal heart baseline). UC interpolated or deleted simultaneously. | 15 minute signals | | Window sliding with 3 min width so 11889 normal and 11889 abnormal | Multimodal bidirectional gated recurrent units (MBiGRU) model | | | |\n",
    "| [Feng et al. 2022](https://doi.org/10.3389/fbioe.2022.1057807) - Cardiotocography analysis by empirical dynamic modeling and Gaussian processes | CTU-UHB | | | | | | | |\n",
    "| [Kuo et al. 2021](https://doi.org/10.1007/s40846-021-00642-y) - Combination of XGBoost Analysis and Rule-Based Method for Intrapartum Cardiotocograph Classification | Private dataset of 60 records | | | | | | | |\n",
    "| [Liu et al. 2021](https://doi.org/10.1016/j.eswa.2021.115714) - An attention-based CNN-BiLSTM hybrid neural network enhanced with features of discrete wavelet transformation for fetal acidosis classification | CTU-UHB | | | | | | | |\n",
    "| [M'Barek et al. 2023](https://doi.org/10.3389/fped.2023.1190441) - DeepCTG® 1.0: an interpretable model to detect fetal hypoxia from cardiotocography data during labor and delivery| Three dataset: CTU-UHB, SPaM, and Beaujon | | | | | | | |\n",
    "| [Yu et al. 2017](https://doi.org/10.1371/journal.pone.0185417) - Dynamic classification of fetal heart rates by hierarchical Dirichlet process mixture models | CTU-UHB | | | | | Hierarchical Dirichlet processes (HDP) and the Chinese restaurant process with finite capacity (CRFC) | | |\n",
    "| [Zarmehri et al. 2019](https://doi.org/10.1016/j.compbiomed.2019.04.041) - On the prediction of foetal acidaemia: A spectral analysis-based approach | CTU-UHB | Set <60bpm, >200bpm, and consecutive differences > 25bpm to missing. If less than 2s then linear interpolation. If longer, subtitue with previous segment of sample length. Signals normalised and periodogram method applied. | Discard last 5min of recording, and use final 50 min | FFT | No? | Don't understand but look at min/max freq amplitude values, for p-numbers 1-10 and Newton method of successive approximations, minimum amplitude cut-off, classify signals as abnormal, and likewise for maximum amplitude | pH <=7.05, or pH <= 7.05 and BE <= -10 mmol/L | MATLAB and R |\n",
    "| [Zeng et al. 2021](https://doi.org/10.1016/j.compbiomed.2021.104218) - Cardiotocography signal abnormality classification using time-frequency features and Ensemble Cost-sensitive SVM classifier | CTU-UHB | Set missing if FHR <=50bpm or >=200bpm, and if UC change <1mmHg over 15s. Calculate quality score based on missing segments. Remove low quality. For better quality, short missing segments (<=15s) filled with linear interpolation, and longer filled with spline interpolation, then detect abnormal (5 consecutive points changing > 25bpm) and linear interpolation| Last 30 minutes from first stage of labour | Continuous Wavelet Transform (CWT), Wavelet Coherence (WTC), and Cross-wavelet Transform (XWT). Then novel image descriptor to extract TF features, and linear feature derived from time-domain representation | | ECSVM classifier | pH <= 7.05 and base excess <= -10 mmol/L | |\n",
    "| [Zhao et al. 2019](https://doi.org/10.3389/fphys.2019.00255) - Computer-Aided Diagnosis System of Fetal Hypoxia Incorporating Recurrence Plot With Convolutional Neural Network | CTU-UHB | | | | | | | |\n",
    "| [Zhao et al. 2019](https://doi.org/10.1186/s12911-019-1007-5) - DeepFHR: intelligent prediction of fetal Acidemia using fetal heart rate signals based on convolutional neural network | CTU-UHB | Spline interpolation when FHR 0, if FHR 0 > 15s then remove, interpolation when difference between points > 25bpm, cubic spline interpolation to remove values <50bpm and >200bpm | | CWT with db and sym order 2 and scales 4, 5, 6 | Multiple wavelet scales increases number of normal and abnormal cases | | | ph 7.15 |\n",
    "\n",
    "| | | | | | | | | |"
   ]
  },
  {
   "cell_type": "markdown",
   "metadata": {},
   "source": [
    "## Detection of anomalies in time series data\n",
    "\n",
    "Yang et al. 2021 - Unsupervised Detection of Anomalies in Fetal Heart Rate - This paper focuses on detection of anomalies in time series using phase space reconstruction and manifolds, tested on CTU-CHB data."
   ]
  }
 ],
 "metadata": {
  "language_info": {
   "name": "python"
  }
 },
 "nbformat": 4,
 "nbformat_minor": 2
}
