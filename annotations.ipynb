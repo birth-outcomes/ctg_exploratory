{
 "cells": [
  {
   "cell_type": "markdown",
   "metadata": {},
   "source": [
    "# Annotations"
   ]
  },
  {
   "cell_type": "code",
   "execution_count": 1,
   "metadata": {},
   "outputs": [],
   "source": [
    "# Import required packages\n",
    "import numpy as np\n",
    "import pandas as pd\n",
    "import scipy.io"
   ]
  },
  {
   "cell_type": "code",
   "execution_count": 2,
   "metadata": {},
   "outputs": [
    {
     "data": {
      "text/plain": [
       "{'__header__': b'MATLAB 5.0 MAT-file, Platform: PCWIN64, Created on: Wed Feb 19 11:44:14 2020',\n",
       " '__version__': '1.0',\n",
       " '__globals__': [],\n",
       " 'dataloss': array([[0.        , 2.70061728, 4.79166667]]),\n",
       " 'ann': array([[MatlabOpaque([(b'', b'MCOS', b'string', array([[3707764736],\n",
       "                              [         2],\n",
       "                              [         1],\n",
       "                              [         1],\n",
       "                              [         1],\n",
       "                              [         1]], dtype=uint32))          ],\n",
       "                      dtype=[('s0', 'O'), ('s1', 'O'), ('s2', 'O'), ('arr', 'O')]),\n",
       "         array([], shape=(1, 0), dtype=float64),\n",
       "         array([], shape=(1, 0), dtype=float64), ...,\n",
       "         array([], shape=(1, 0), dtype=float64),\n",
       "         array([], shape=(0, 0), dtype=uint8),\n",
       "         array([], shape=(0, 0), dtype=uint8)],\n",
       "        [array([], shape=(1, 0), dtype=float64),\n",
       "         array([], shape=(1, 0), dtype=float64),\n",
       "         array([], shape=(1, 0), dtype=float64), ...,\n",
       "         array([], shape=(1, 0), dtype=float64),\n",
       "         array([], shape=(0, 0), dtype=uint8),\n",
       "         array([], shape=(0, 0), dtype=uint8)],\n",
       "        [array([], shape=(1, 0), dtype=float64),\n",
       "         array([], shape=(1, 0), dtype=float64),\n",
       "         array([], shape=(1, 0), dtype=float64), ...,\n",
       "         array([], shape=(1, 0), dtype=float64),\n",
       "         array([], shape=(0, 0), dtype=uint8),\n",
       "         array([], shape=(0, 0), dtype=uint8)],\n",
       "        [array([], shape=(1, 0), dtype=float64),\n",
       "         array([], shape=(1, 0), dtype=float64),\n",
       "         array([], shape=(1, 0), dtype=float64), ...,\n",
       "         array([], shape=(1, 0), dtype=float64),\n",
       "         array([], shape=(0, 0), dtype=uint8),\n",
       "         array([], shape=(0, 0), dtype=uint8)],\n",
       "        [array([], shape=(1, 0), dtype=float64),\n",
       "         array([], shape=(1, 0), dtype=float64),\n",
       "         array([], shape=(1, 0), dtype=float64), ...,\n",
       "         array([], shape=(1, 0), dtype=float64),\n",
       "         array([], shape=(0, 0), dtype=uint8),\n",
       "         array([], shape=(0, 0), dtype=uint8)]], dtype=object),\n",
       " '__function_workspace__': array([[ 0,  1, 73, ...,  0,  0,  0]], dtype=uint8)}"
      ]
     },
     "execution_count": 2,
     "metadata": {},
     "output_type": "execute_result"
    }
   ],
   "source": [
    "# Load one of the annotations files\n",
    "mat = scipy.io.loadmat('data_annotations_romagnoli_2020/annotation_1317.mat')\n",
    "mat"
   ]
  },
  {
   "cell_type": "markdown",
   "metadata": {},
   "source": [
    "\"Annotations were visually identified by an expert gynecologist supported by CTG Analyzer, a dedicated software application. They consist in the detection of starting and ending sample points of specific events on both FHR signal and maternal tocogram. Annotated events for the FHR signal are the bradycardia, tachycardia, acceleration and deceleration episodes. Annotated events for the maternal tocogram are the uterine contractions. Table 1 reports guidelines for identification of events on the CTG recording. The dataset also includes classification of each deceleration as early, late, variable or prolonged, in relation to the presence of a uterine contraction. Table 2 reports classification of the decelerations in relation to uterine contractions.\"\n",
    "\n",
    "\"Table 1. Guidelines for identification of events on the CTG recording.\n",
    "* Bradycardia\tFHR baseline below 110 bpm for longer than 10 minutes\n",
    "* Tachycardia\tFHR baseline over 160 bpm for longer than 10 minutes\n",
    "* Acceleration\tFHR increments above baseline of more than 15 bpm lasting longer than 15 s\n",
    "* Deceleration\tFHR decrements below baseline of more than 15 bpm lasting longer than 15 s\n",
    "* Uterine contraction\tBell-shaped temporary increment of the amplitude of the uterine activity signal lasting 45−120 s\"\n",
    "\n",
    "\"Table 2. Classification of the decelerations in relation to uterine contractions.\n",
    "* Early\tDeceleration onset synchronized with uterine-contraction onset; shallow short-lasting deceleration with normal variability within the deceleration\n",
    "* Late\tDeceleration onset during the second half of uterine contraction; gradual onset and/or gradual return to the baseline and/or reduced variability within the deceleration\n",
    "* Variable\tDeceleration uncorrelated to any uterine contraction; a rapid drop and good variability within the deceleration; variable in size and shape\n",
    "* Prolonged\tDeceleration lasting more than 3 minutes\""
   ]
  },
  {
   "cell_type": "markdown",
   "metadata": {},
   "source": [
    "## View file"
   ]
  },
  {
   "cell_type": "markdown",
   "metadata": {},
   "source": [
    "\"The dataloss variable (1 × 3 vector) contains information about the quality of the FHR signal divided in 3 consecutive segments of equal length \"\n",
    "\n",
    "\"Percentage of data loss, contained in the dataloss variable and automatically determined by CTG Analyzer, ranges from 0% to 100%. FHR-signal quality decreases with increasing percentage.\""
   ]
  },
  {
   "cell_type": "code",
   "execution_count": 3,
   "metadata": {},
   "outputs": [
    {
     "data": {
      "text/plain": [
       "array([[0.        , 2.70061728, 4.79166667]])"
      ]
     },
     "execution_count": 3,
     "metadata": {},
     "output_type": "execute_result"
    }
   ],
   "source": [
    "mat['dataloss']"
   ]
  },
  {
   "cell_type": "markdown",
   "metadata": {},
   "source": [
    "\"The ann variable (5 × L cell array, where L is the length of the CTG recording in samples) contains the annotations  for the 5 considered events:\n",
    "* 1-bradycardia,\n",
    "* 2-tachycardia,\n",
    "* 3-acceleration,\n",
    "* 4-deceleration and\n",
    "* 5-uterine contraction\"\n",
    "\n",
    "\"CTG annotations, contained in ann variable, were visually identified by an expert gynecologist supported by CTG Analyzer\"\n",
    "\n",
    "\"Symbols used in the proposed dataset for the annotations of the CTG events....\n",
    "* Bradycardia\tStarting point of the kth bradycardia event\t(BCk\n",
    "Ending point of the kth bradycardia event\t)BCk\n",
    "* Tachycardia\tStarting point of the kth tachycardia event\t(TCk\n",
    "Ending point of the kth tachycardia event\t)TCk\n",
    "* Acceleration\tStarting point of the kth acceleration event\t(ACCk\n",
    "Ending point of the kth acceleration event\t)ACCk\n",
    "* Deceleration\tStarting point of the kth deceleration event, classification in relation to uterine contraction\t(DECkE\n",
    "(DECkL\n",
    "(DECkV\n",
    "(DECkP\n",
    "Ending point of the kth deceleration event, classification in relation to uterine contraction\t)DECkE\n",
    ")DECkL\n",
    ")DECkV\n",
    ")DECkP\n",
    "* Uterine contraction\tStarting point of the kth uterine contraction\t(UCk\n",
    "Ending point of the kth uterine contraction\t)UCk\"\n",
    "\n",
    "\"Each CTG recording was annotated by an expert gynecologist by visual inspection and with the support of CTG Analyzer. All CTG events, that are bradycardia, tachycardia, acceleration, deceleration and uterine contraction, were identified according to their definitions provided by FIGO guidelines as reported in Table 1 [7,8] and indicated as BC, TC, ACC, DEC and UC, respectively. Classification of decelerations in early, late, variable and prolonged, was also performed according to the definitions of FIGO guidelines as reported in Table 2 [7] and deceleration class was indicated as E, L, V and P, respectively. Fig. 2 to Fig. 4 report examples of automatic CTG events identification and classification by CTG Analyzer. The starting sample point of an event is indicated as a string composed by an opening bracket ‘(’, the acronym of the event, a progressive number and, if a deceleration, the deceleration class as reported in Table 3. Analogously, the ending sample point of an event is indicated as a string composed by a closing bracket ‘)’, the acronym of the event, a progressive number and, if a deceleration, the deceleration class as reported in Table 3. When a sample does not represent a starting/ending point of an event, the cell has been left empty.\""
   ]
  },
  {
   "cell_type": "code",
   "execution_count": 4,
   "metadata": {},
   "outputs": [
    {
     "data": {
      "text/plain": [
       "array([[MatlabOpaque([(b'', b'MCOS', b'string', array([[3707764736],\n",
       "                             [         2],\n",
       "                             [         1],\n",
       "                             [         1],\n",
       "                             [         1],\n",
       "                             [         1]], dtype=uint32))          ],\n",
       "                     dtype=[('s0', 'O'), ('s1', 'O'), ('s2', 'O'), ('arr', 'O')]),\n",
       "        array([], shape=(1, 0), dtype=float64),\n",
       "        array([], shape=(1, 0), dtype=float64), ...,\n",
       "        array([], shape=(1, 0), dtype=float64),\n",
       "        array([], shape=(0, 0), dtype=uint8),\n",
       "        array([], shape=(0, 0), dtype=uint8)],\n",
       "       [array([], shape=(1, 0), dtype=float64),\n",
       "        array([], shape=(1, 0), dtype=float64),\n",
       "        array([], shape=(1, 0), dtype=float64), ...,\n",
       "        array([], shape=(1, 0), dtype=float64),\n",
       "        array([], shape=(0, 0), dtype=uint8),\n",
       "        array([], shape=(0, 0), dtype=uint8)],\n",
       "       [array([], shape=(1, 0), dtype=float64),\n",
       "        array([], shape=(1, 0), dtype=float64),\n",
       "        array([], shape=(1, 0), dtype=float64), ...,\n",
       "        array([], shape=(1, 0), dtype=float64),\n",
       "        array([], shape=(0, 0), dtype=uint8),\n",
       "        array([], shape=(0, 0), dtype=uint8)],\n",
       "       [array([], shape=(1, 0), dtype=float64),\n",
       "        array([], shape=(1, 0), dtype=float64),\n",
       "        array([], shape=(1, 0), dtype=float64), ...,\n",
       "        array([], shape=(1, 0), dtype=float64),\n",
       "        array([], shape=(0, 0), dtype=uint8),\n",
       "        array([], shape=(0, 0), dtype=uint8)],\n",
       "       [array([], shape=(1, 0), dtype=float64),\n",
       "        array([], shape=(1, 0), dtype=float64),\n",
       "        array([], shape=(1, 0), dtype=float64), ...,\n",
       "        array([], shape=(1, 0), dtype=float64),\n",
       "        array([], shape=(0, 0), dtype=uint8),\n",
       "        array([], shape=(0, 0), dtype=uint8)]], dtype=object)"
      ]
     },
     "execution_count": 4,
     "metadata": {},
     "output_type": "execute_result"
    }
   ],
   "source": [
    "# View annotation array\n",
    "mat['ann']"
   ]
  },
  {
   "cell_type": "code",
   "execution_count": 5,
   "metadata": {},
   "outputs": [
    {
     "data": {
      "text/plain": [
       "MatlabOpaque([(b'', b'MCOS', b'string', array([[3707764736],\n",
       "                     [         2],\n",
       "                     [         1],\n",
       "                     [         1],\n",
       "                     [         1],\n",
       "                     [         1]], dtype=uint32))          ],\n",
       "             dtype=[('s0', 'O'), ('s1', 'O'), ('s2', 'O'), ('arr', 'O')])"
      ]
     },
     "execution_count": 5,
     "metadata": {},
     "output_type": "execute_result"
    }
   ],
   "source": [
    "mat['ann'][0][0]"
   ]
  },
  {
   "cell_type": "markdown",
   "metadata": {},
   "source": [
    "## File with tachycardia\n",
    "\n",
    "If you open in Octave Online - https://octave-online.net/ - load(\"annotation_1036.mat\") - then you get\n",
    "```\n",
    "ann = \n",
    "{\n",
    "    [1,1] = [](0x0)\n",
    "    [2,1] = [](0x0)\n",
    "    [3,1] = [](0x0)\n",
    "    [4,1] = [](0x0)\n",
    "    [5,1] = [](0x0)\n",
    "    [1,2] = [](0x0)\n",
    "    ... (with that second number going to 108 and so on...)\n",
    "}\n",
    "```\n",
    "\n",
    "It says that ann is {5x16800}"
   ]
  },
  {
   "cell_type": "code",
   "execution_count": 6,
   "metadata": {},
   "outputs": [
    {
     "data": {
      "text/plain": [
       "array([[array([], shape=(1, 0), dtype=float64),\n",
       "        array([], shape=(1, 0), dtype=float64),\n",
       "        array([], shape=(1, 0), dtype=float64), ...,\n",
       "        array([], shape=(1, 0), dtype=float64),\n",
       "        array([], shape=(0, 0), dtype=uint8),\n",
       "        array([], shape=(0, 0), dtype=uint8)],\n",
       "       [array([], shape=(1, 0), dtype=float64),\n",
       "        array([], shape=(1, 0), dtype=float64),\n",
       "        array([], shape=(1, 0), dtype=float64), ...,\n",
       "        array([], shape=(1, 0), dtype=float64),\n",
       "        array([], shape=(0, 0), dtype=uint8),\n",
       "        array([], shape=(0, 0), dtype=uint8)],\n",
       "       [array([], shape=(1, 0), dtype=float64),\n",
       "        array([], shape=(1, 0), dtype=float64),\n",
       "        array([], shape=(1, 0), dtype=float64), ...,\n",
       "        array([], shape=(1, 0), dtype=float64),\n",
       "        array([], shape=(0, 0), dtype=uint8),\n",
       "        array([], shape=(0, 0), dtype=uint8)],\n",
       "       [array([], shape=(1, 0), dtype=float64),\n",
       "        array([], shape=(1, 0), dtype=float64),\n",
       "        array([], shape=(1, 0), dtype=float64), ...,\n",
       "        array([], shape=(1, 0), dtype=float64),\n",
       "        array([], shape=(0, 0), dtype=uint8),\n",
       "        array([], shape=(0, 0), dtype=uint8)],\n",
       "       [array([], shape=(1, 0), dtype=float64),\n",
       "        array([], shape=(1, 0), dtype=float64),\n",
       "        array([], shape=(1, 0), dtype=float64), ...,\n",
       "        array([], shape=(1, 0), dtype=float64),\n",
       "        array([], shape=(0, 0), dtype=uint8),\n",
       "        array([], shape=(0, 0), dtype=uint8)]], dtype=object)"
      ]
     },
     "execution_count": 6,
     "metadata": {},
     "output_type": "execute_result"
    }
   ],
   "source": [
    "# Load one of the annotations files\n",
    "mat = scipy.io.loadmat('data_annotations_romagnoli_2020/annotation_1036.mat')\n",
    "mat['ann']"
   ]
  },
  {
   "cell_type": "code",
   "execution_count": 7,
   "metadata": {},
   "outputs": [
    {
     "data": {
      "text/html": [
       "<div>\n",
       "<style scoped>\n",
       "    .dataframe tbody tr th:only-of-type {\n",
       "        vertical-align: middle;\n",
       "    }\n",
       "\n",
       "    .dataframe tbody tr th {\n",
       "        vertical-align: top;\n",
       "    }\n",
       "\n",
       "    .dataframe thead th {\n",
       "        text-align: right;\n",
       "    }\n",
       "</style>\n",
       "<table border=\"1\" class=\"dataframe\">\n",
       "  <thead>\n",
       "    <tr style=\"text-align: right;\">\n",
       "      <th></th>\n",
       "      <th>bradycardia</th>\n",
       "      <th>tachycardia</th>\n",
       "      <th>acceleration</th>\n",
       "      <th>deceleration</th>\n",
       "      <th>uterine_contraction</th>\n",
       "    </tr>\n",
       "  </thead>\n",
       "  <tbody>\n",
       "    <tr>\n",
       "      <th>0</th>\n",
       "      <td>[[]]</td>\n",
       "      <td>[[]]</td>\n",
       "      <td>[[]]</td>\n",
       "      <td>[[]]</td>\n",
       "      <td>[[]]</td>\n",
       "    </tr>\n",
       "    <tr>\n",
       "      <th>1</th>\n",
       "      <td>[[]]</td>\n",
       "      <td>[[]]</td>\n",
       "      <td>[[]]</td>\n",
       "      <td>[[]]</td>\n",
       "      <td>[[]]</td>\n",
       "    </tr>\n",
       "    <tr>\n",
       "      <th>2</th>\n",
       "      <td>[[]]</td>\n",
       "      <td>[[]]</td>\n",
       "      <td>[[]]</td>\n",
       "      <td>[[]]</td>\n",
       "      <td>[[]]</td>\n",
       "    </tr>\n",
       "    <tr>\n",
       "      <th>3</th>\n",
       "      <td>[[]]</td>\n",
       "      <td>[[]]</td>\n",
       "      <td>[[]]</td>\n",
       "      <td>[[]]</td>\n",
       "      <td>[[]]</td>\n",
       "    </tr>\n",
       "    <tr>\n",
       "      <th>4</th>\n",
       "      <td>[[]]</td>\n",
       "      <td>[[]]</td>\n",
       "      <td>[[]]</td>\n",
       "      <td>[[]]</td>\n",
       "      <td>[[]]</td>\n",
       "    </tr>\n",
       "    <tr>\n",
       "      <th>...</th>\n",
       "      <td>...</td>\n",
       "      <td>...</td>\n",
       "      <td>...</td>\n",
       "      <td>...</td>\n",
       "      <td>...</td>\n",
       "    </tr>\n",
       "    <tr>\n",
       "      <th>16795</th>\n",
       "      <td>[[]]</td>\n",
       "      <td>[[]]</td>\n",
       "      <td>[[]]</td>\n",
       "      <td>[[]]</td>\n",
       "      <td>[[]]</td>\n",
       "    </tr>\n",
       "    <tr>\n",
       "      <th>16796</th>\n",
       "      <td>[[]]</td>\n",
       "      <td>[[]]</td>\n",
       "      <td>[[]]</td>\n",
       "      <td>[[]]</td>\n",
       "      <td>[[]]</td>\n",
       "    </tr>\n",
       "    <tr>\n",
       "      <th>16797</th>\n",
       "      <td>[[]]</td>\n",
       "      <td>[[]]</td>\n",
       "      <td>[[]]</td>\n",
       "      <td>[[]]</td>\n",
       "      <td>[[]]</td>\n",
       "    </tr>\n",
       "    <tr>\n",
       "      <th>16798</th>\n",
       "      <td>[]</td>\n",
       "      <td>[]</td>\n",
       "      <td>[]</td>\n",
       "      <td>[]</td>\n",
       "      <td>[]</td>\n",
       "    </tr>\n",
       "    <tr>\n",
       "      <th>16799</th>\n",
       "      <td>[]</td>\n",
       "      <td>[]</td>\n",
       "      <td>[]</td>\n",
       "      <td>[]</td>\n",
       "      <td>[]</td>\n",
       "    </tr>\n",
       "  </tbody>\n",
       "</table>\n",
       "<p>16800 rows × 5 columns</p>\n",
       "</div>"
      ],
      "text/plain": [
       "      bradycardia tachycardia acceleration deceleration uterine_contraction\n",
       "0            [[]]        [[]]         [[]]         [[]]                [[]]\n",
       "1            [[]]        [[]]         [[]]         [[]]                [[]]\n",
       "2            [[]]        [[]]         [[]]         [[]]                [[]]\n",
       "3            [[]]        [[]]         [[]]         [[]]                [[]]\n",
       "4            [[]]        [[]]         [[]]         [[]]                [[]]\n",
       "...           ...         ...          ...          ...                 ...\n",
       "16795        [[]]        [[]]         [[]]         [[]]                [[]]\n",
       "16796        [[]]        [[]]         [[]]         [[]]                [[]]\n",
       "16797        [[]]        [[]]         [[]]         [[]]                [[]]\n",
       "16798          []          []           []           []                  []\n",
       "16799          []          []           []           []                  []\n",
       "\n",
       "[16800 rows x 5 columns]"
      ]
     },
     "execution_count": 7,
     "metadata": {},
     "output_type": "execute_result"
    }
   ],
   "source": [
    "mat_df = pd.DataFrame(mat['ann'].T)\n",
    "mat_df.columns = ['bradycardia', 'tachycardia', 'acceleration', 'deceleration', 'uterine_contraction']\n",
    "mat_df"
   ]
  },
  {
   "cell_type": "code",
   "execution_count": 8,
   "metadata": {},
   "outputs": [
    {
     "data": {
      "text/plain": [
       "0        [[]]\n",
       "1        [[]]\n",
       "2        [[]]\n",
       "3        [[]]\n",
       "4        [[]]\n",
       "         ... \n",
       "16795    [[]]\n",
       "16796    [[]]\n",
       "16797    [[]]\n",
       "16798     NaN\n",
       "16799     NaN\n",
       "Name: bradycardia, Length: 16800, dtype: object"
      ]
     },
     "execution_count": 8,
     "metadata": {},
     "output_type": "execute_result"
    }
   ],
   "source": [
    "mat_df.bradycardia.apply(lambda y: np.nan if len(y)==0 else y)"
   ]
  },
  {
   "cell_type": "code",
   "execution_count": 9,
   "metadata": {},
   "outputs": [
    {
     "data": {
      "text/plain": [
       "280.0"
      ]
     },
     "execution_count": 9,
     "metadata": {},
     "output_type": "execute_result"
    }
   ],
   "source": [
    "len(mat_df.index)/60"
   ]
  },
  {
   "cell_type": "markdown",
   "metadata": {},
   "source": [
    "## File with accelerations, decelerations, uterine contractions, decelerations"
   ]
  },
  {
   "cell_type": "code",
   "execution_count": 10,
   "metadata": {},
   "outputs": [
    {
     "data": {
      "text/plain": [
       "array([[array([], shape=(1, 0), dtype=float64),\n",
       "        array([], shape=(1, 0), dtype=float64),\n",
       "        array([], shape=(1, 0), dtype=float64), ...,\n",
       "        array([], shape=(1, 0), dtype=float64),\n",
       "        array([], shape=(0, 0), dtype=uint8),\n",
       "        array([], shape=(0, 0), dtype=uint8)],\n",
       "       [array([], shape=(1, 0), dtype=float64),\n",
       "        array([], shape=(1, 0), dtype=float64),\n",
       "        array([], shape=(1, 0), dtype=float64), ...,\n",
       "        array([], shape=(1, 0), dtype=float64),\n",
       "        array([], shape=(0, 0), dtype=uint8),\n",
       "        array([], shape=(0, 0), dtype=uint8)],\n",
       "       [array([], shape=(1, 0), dtype=float64),\n",
       "        array([], shape=(1, 0), dtype=float64),\n",
       "        array([], shape=(1, 0), dtype=float64), ...,\n",
       "        array([], shape=(1, 0), dtype=float64),\n",
       "        array([], shape=(0, 0), dtype=uint8),\n",
       "        array([], shape=(0, 0), dtype=uint8)],\n",
       "       [array([], shape=(1, 0), dtype=float64),\n",
       "        array([], shape=(1, 0), dtype=float64),\n",
       "        array([], shape=(1, 0), dtype=float64), ...,\n",
       "        array([], shape=(1, 0), dtype=float64),\n",
       "        array([], shape=(0, 0), dtype=uint8),\n",
       "        array([], shape=(0, 0), dtype=uint8)],\n",
       "       [array([], shape=(1, 0), dtype=float64),\n",
       "        array([], shape=(1, 0), dtype=float64),\n",
       "        array([], shape=(1, 0), dtype=float64), ...,\n",
       "        array([], shape=(1, 0), dtype=float64),\n",
       "        array([], shape=(0, 0), dtype=uint8),\n",
       "        array([], shape=(0, 0), dtype=uint8)]], dtype=object)"
      ]
     },
     "execution_count": 10,
     "metadata": {},
     "output_type": "execute_result"
    }
   ],
   "source": [
    "# Load one of the annotations files\n",
    "mat = scipy.io.loadmat('data_annotations_romagnoli_2020/annotation_1176.mat')\n",
    "mat['ann']"
   ]
  }
 ],
 "metadata": {
  "kernelspec": {
   "display_name": "ctg",
   "language": "python",
   "name": "python3"
  },
  "language_info": {
   "codemirror_mode": {
    "name": "ipython",
    "version": 3
   },
   "file_extension": ".py",
   "mimetype": "text/x-python",
   "name": "python",
   "nbconvert_exporter": "python",
   "pygments_lexer": "ipython3",
   "version": "3.10.13"
  },
  "orig_nbformat": 4
 },
 "nbformat": 4,
 "nbformat_minor": 2
}
