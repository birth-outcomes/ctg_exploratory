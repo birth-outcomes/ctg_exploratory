{
 "cells": [
  {
   "cell_type": "markdown",
   "metadata": {},
   "source": [
    "# Feature extraction - Maeda et al. 2012 baseline FHR, accelerations and decelerations\n",
    "\n",
    "**Summary:**\n",
    "\n",
    "This notebook uses the cleaned FHR data (as saved from MATLAB) to calculate the baseline FHR, accelerations and decelerations using the method from Maeda. These are compared against the results available from FHRMA (MATLAB), from which we can see:\n",
    "* Calculation of baseline is successful - all records match\n",
    "* Calculation of accelerations is very close - likely differences from having not yet implemented false net\n",
    "* Calculation of decelerations to be completed\n",
    "\n",
    "**Some observations to be aware of:**\n",
    "* This method used modes, but that meant the baseline FHR would vary quite notably if the mode changed (as it's not uncommon for it to be a close call between modes). For example, which mode is chosen in a multi-mode situation. I have found examples where FHRMA was the min and examples where it was the max.\n",
    "* In the calculation of baseline FHR and detection of accelerations and decelerations, I have noted points where I think FHRMA's implementation differs from that described in the paper from Maeda et al. 2012. These include:\n",
    "    * Calculation of mean from all values in bin rather than 5-minute interval values in bin (as I think it makes sense it would be the interval)\n",
    "    * Calculation of fHR for last interval using points from the previous interval to pad to 150 (as I have not found mention of this in the paper - but its not implausible)\n",
    "    * Excluding reference lines in accelerations/decelerations (as these are described in the paper as being used)"
   ]
  },
  {
   "cell_type": "markdown",
   "metadata": {},
   "source": [
    "## Set up"
   ]
  },
  {
   "cell_type": "markdown",
   "metadata": {},
   "source": [
    "Import required packages"
   ]
  },
  {
   "cell_type": "code",
   "execution_count": 1,
   "metadata": {},
   "outputs": [],
   "source": [
    "# Import packages\n",
    "import copy\n",
    "from dataclasses import dataclass\n",
    "import glob\n",
    "from itertools import compress, groupby\n",
    "import matplotlib.pyplot as plt\n",
    "import math\n",
    "import numpy as np\n",
    "import os\n",
    "import pandas as pd\n",
    "from scipy import io\n",
    "from statistics import multimode"
   ]
  },
  {
   "cell_type": "markdown",
   "metadata": {},
   "source": [
    "Define file paths"
   ]
  },
  {
   "cell_type": "code",
   "execution_count": 2,
   "metadata": {},
   "outputs": [],
   "source": [
    "# Define file paths\n",
    "@dataclass(frozen=True)\n",
    "class Paths:\n",
    "    '''Singleton object for storing paths to data and database.'''\n",
    "\n",
    "    clean_fhr = './fhrma/train_test_data/clean_fhr_matlab/'\n",
    "    md_std = './fhrma/MD_std.mat'\n",
    "\n",
    "\n",
    "paths = Paths()"
   ]
  },
  {
   "cell_type": "markdown",
   "metadata": {},
   "source": [
    "Define function for importing all csv files in a directory"
   ]
  },
  {
   "cell_type": "code",
   "execution_count": 3,
   "metadata": {},
   "outputs": [],
   "source": [
    "def import_csv(directory, output_dict):\n",
    "    '''\n",
    "    Import csv files from provided directory and save to output_dict\n",
    "    Inputs:\n",
    "    directory - string, location of csv files\n",
    "    output_dict - dictionary, to save files to\n",
    "    '''\n",
    "    # Get list of .csv files in directory\n",
    "    files = glob.glob(os.path.join(directory, '*.csv'))\n",
    "\n",
    "    # Loop through files in the directory\n",
    "    for file in files:\n",
    "        # Get raw name of record (without path or file type)\n",
    "        name = file.replace(directory, '').replace('.csv', '')\n",
    "        # Import and save to dictionary\n",
    "        output_dict[name] = pd.read_csv(file, header=None)[0].values\n",
    "\n",
    "    return output_dict"
   ]
  },
  {
   "cell_type": "markdown",
   "metadata": {},
   "source": [
    "Load the cleaned FHR data"
   ]
  },
  {
   "cell_type": "code",
   "execution_count": 4,
   "metadata": {},
   "outputs": [],
   "source": [
    "raw_fhr = import_csv(\n",
    "    directory=paths.clean_fhr,\n",
    "    output_dict=dict())"
   ]
  },
  {
   "cell_type": "markdown",
   "metadata": {},
   "source": [
    "Load the results when processed using Maeda's methodology in FHRMA"
   ]
  },
  {
   "cell_type": "code",
   "execution_count": 5,
   "metadata": {},
   "outputs": [],
   "source": [
    "# Load FHRMA version of results\n",
    "md_std = io.loadmat(paths.md_std)\n",
    "\n",
    "# Get array listing filenames (and hence order of the data)\n",
    "fhrma_files = np.concatenate(np.concatenate(md_std['data']['filename']))\n",
    "\n",
    "# Get array with the baseline signal as per Maeda when implemented in FHRMA\n",
    "fhrma_md = np.concatenate(md_std['data']['baseline'])\n",
    "# Convert array into dictionary so each record is accompanied by relevant name\n",
    "fhrma_maeda_base = {\n",
    "    fhrma_files[i].replace('.fhr', ''): \n",
    "    fhrma_md[i][0] for i in range(len(fhrma_files))}\n",
    "\n",
    "# Same for accelerations\n",
    "fhrma_md_acc = np.concatenate(md_std['data']['accelerations'])\n",
    "fhrma_maeda_acc = {\n",
    "    fhrma_files[i].replace('.fhr', ''): \n",
    "    fhrma_md_acc[i] for i in range(len(fhrma_files))}"
   ]
  },
  {
   "cell_type": "markdown",
   "metadata": {},
   "source": [
    "## Maeda et al. 2012 Baseline FHR\n",
    "\n",
    "[Maeda et al. 2012](https://benthamopen.com/contents/pdf/TOMDJ/TOMDJ-4-28.pdf) - Central Computerized Automatic Fetal Heart Rate Diagnosis with a Rapid and Direct Alarm System\n",
    "\n",
    "FHR was sampled every 250ms over a 5-minute period, and averaged every 2 seconds to determine 150 FHR (also found 150 uterine contraction data) (as there are 30 x 2 seconds in a minute, so 150 x 2 seconds in 5 minutes). FHR data were counted in intervals of 10 beats per minute (bpm) ranging from 0 to 200 bpm. The data in the interval with the most frequent FHR data was then averaged to determine the FHR baseline. \n",
    "\n",
    "So basically...\n",
    "\n",
    "1. **Find the average of every 2 seconds**\n",
    "\n",
    "2. **Look at data from a five minute period** - this will mean you are looking at a sample of 150 FHR (as each represents average of 2 seconds, and there are 150 x 2 seconds in 5 minutes)\n",
    "\n",
    "3. **Look at frequency of data in bins of 10bpm** - i.e. number of FHR that are 140-149.99, 150-150.99, and so on.\n",
    "\n",
    "4. **Find the most frequent bin** - for example, 140-150 has the most records, then just use the data from that bin\n",
    "\n",
    "5. **Find the average of the heartrates from that bin** - so might get a result like 145.5, or so on. That represents the baseline FHR for that 5 minute portion of the data."
   ]
  },
  {
   "cell_type": "markdown",
   "metadata": {},
   "source": [
    "### MATLAB Implementation\n",
    "\n",
    "Boudet et al. implement this method [in the FHRMA toolbox using MATLAB](https://github.com/utsb-fmm/FHRMA/blob/master/aammaeda.m).\n",
    "\n",
    "They used a function `aamaeda.m` with the relevant excerpt copied below:\n",
    "\n",
    "```\n",
    "sFHR=avgsubsamp(FHR,8);\n",
    "baseline=zeros(1,length(FHR));\n",
    "\n",
    "for win=[0:150:length(sFHR)-151 length(sFHR)-150]\n",
    "    \n",
    "    bins=zeros(1,25);\n",
    "\n",
    "    for i=1:150\n",
    "        bins(ceil(sFHR(win+i)/10))=bins(ceil(sFHR(win+i)/10))+1;\n",
    "    end\n",
    "    [~,bestbins]=max(bins(1:20));\n",
    "    \n",
    "    baseline(win*8+1:win*8+1200)=mean(sFHR( sFHR<=bestbins*10 & sFHR>(bestbins-1)*10 ));\n",
    "\n",
    "end\n",
    "\n",
    "\n",
    "baseline(win*8+1201:length(FHR))=baseline(win*8+1200);\n",
    "```\n",
    "\n",
    "Within that, they use a function `avgsubsamp` for subsampling by average, which is also copied below:\n",
    "\n",
    "```\n",
    "function y=avgsubsamp(x,factor)\n",
    "    y=zeros(1,floor(length(x)/factor));\n",
    "    for i=1:length(y)\n",
    "        y(i)=mean(x((i-1)*factor+1:i*factor));\n",
    "    end\n",
    "end\n",
    "```"
   ]
  },
  {
   "cell_type": "markdown",
   "metadata": {},
   "source": [
    "### Python Implementation"
   ]
  },
  {
   "cell_type": "markdown",
   "metadata": {},
   "source": [
    "#### Define function that replicates Maeda et al. 2012\n",
    "\n",
    "Steps:\n",
    "\n",
    "1. **Convert to average of every 2 seconds** - In FHRMA, they seperate the FHR into chunks of 8 (i.e. first 8 records, then next 8, then next 8, and so on). They then find the mean of each of those chunks.\n",
    "\n",
    "2. **Find the most common heartrate bin in each 5 minute interval** - We're looking at every 5 minutes / 300 seconds (which equates to 150 of the 2 second results). We sort the heartrates into bins of 10bpm (e.g. 130-140, 140-150, 150-160), then look to see which bin is most common for that 5 minute period. FHRMA then find the mean of all heartrates from that bin across the entire recorded FHR CTG, but I am minded to suggested that this should be the mean of only the heartrates from that bin in the current five minute interval.\n",
    "\n",
    "Note: This doesn't clean FHR beforehand, so could include large periods of 0, and includes values outside of normal."
   ]
  },
  {
   "cell_type": "code",
   "execution_count": 6,
   "metadata": {},
   "outputs": [],
   "source": [
    "def get_baseline(fhr, match_fhrma, show_process=False):\n",
    "    '''\n",
    "    Get FHR baseline using method from Maeda et al. 2012.\n",
    "\n",
    "    Parameters\n",
    "    ----------\n",
    "    fhr : array\n",
    "        Raw FHR sampled at 4Hz\n",
    "    match_fhrma : boolean\n",
    "        Whether to use a method that ensures results match FHRMA implementation\n",
    "        of Maeda's method, or whether to use the method that I currently think\n",
    "        best matches the description/intention in the original paper\n",
    "    show_process : boolean\n",
    "        Whether to print results as move through this process\n",
    "\n",
    "    Return\n",
    "    ------\n",
    "    baseline : array\n",
    "        Array where raw FHR is replaced by the baseline FHR calculated for the\n",
    "        five minute interval which it belonged to\n",
    "    '''\n",
    "    # Create array of zeros of length of fhr, which will amend to store baseline\n",
    "    baseline = [0] * len(fhr)\n",
    "\n",
    "    # Find mean of every 8 records, generating shorter version of FHR (sfhr)\n",
    "    sfhr = []\n",
    "    start=0\n",
    "    end=len(fhr)\n",
    "    step=8\n",
    "    for i in range(start, end, step):\n",
    "        sfhr.append(np.mean(fhr[i:i+step]))\n",
    "\n",
    "    # If there is a remainder when divide length by 8 (i.e. doesn't perfectly\n",
    "    # divide), then drop the final calculated FHR, as it is not from at least 8 data points\n",
    "    if len(fhr) % 8 != 0:\n",
    "        sfhr.pop()\n",
    "\n",
    "    # Print example of results\n",
    "    if show_process:\n",
    "        print(f'First 16 records in raw FHR: {fhr[:16]}')\n",
    "        print(f'First 2 records in shortened FHR (average of each 8): {sfhr[:2]}')\n",
    "\n",
    "    # Split the record into 5 minute intervals (if last less than 5 min, will be \n",
    "    # smaller). Loop through each interval\n",
    "    starts = np.append(np.arange(0, len(sfhr)-150, 150), [len(sfhr)-150])\n",
    "    for i in starts:\n",
    "\n",
    "        # If want to match results in FHRMA, for the final interval, filter to\n",
    "        # the last 5 minutes of the data, even if that overlaps with the\n",
    "        # previous 5 minute segment\n",
    "        if match_fhrma:\n",
    "            current = sfhr[0+i:150+i]\n",
    "            if len(current) < 150:\n",
    "                current = sfhr[-150:]\n",
    "        # Otherwise, allow the last segment to be less than 5 minutes\n",
    "        else:\n",
    "            # Filter data to that 5-minute segment\n",
    "            current = sfhr[0+i:150+i]\n",
    "\n",
    "        # Convert each record into their upper bin boundary (e.g. 149 --> 150)\n",
    "        bins = np.array([math.ceil(x/10)*10 for x in current])\n",
    "        # Restrict to only bins that are between 0 and 200\n",
    "        bins = [x for x in bins if x <= 200]\n",
    "\n",
    "        # Find the most common bin - in multi-mode situations, take minimum\n",
    "        modes = multimode(bins)\n",
    "        most_common = min(modes)\n",
    "        if show_process:\n",
    "            print(modes)\n",
    "            print(most_common)\n",
    "\n",
    "        # If want to match results in FHRMA, filter to records from that bin\n",
    "        # from across the entire CTG\n",
    "        if match_fhrma:\n",
    "            mask = [(x <= most_common) & (x > most_common-10) for x in sfhr]\n",
    "            filtered = list(compress(sfhr, mask))\n",
    "        # Otherwise, filter to records in that bin from only that 5min interval\n",
    "        else:\n",
    "            mask = [(x <= most_common) & (x > most_common-10) for x in current]\n",
    "            filtered = list(compress(current, mask))\n",
    "\n",
    "        # Find mean of those filtered records in that bin\n",
    "        mean = np.mean(filtered)\n",
    "\n",
    "        # Set the records in baseline for that five minute interval to this mean\n",
    "        baseline[(i*8):1200+(i*8)] = [mean] * 1200\n",
    "\n",
    "    # Get the last value from the last interval, and set all subsequent points to that value\n",
    "    baseline[i*8+1200:] = [baseline[i*8+1200-1]]*len(baseline[i*8+1200:])\n",
    "\n",
    "    # Print example of results from final run of that loop above\n",
    "    if show_process:\n",
    "        print(f'First 10 records of one of the intervals: {current[:10]}')\n",
    "        print(f'Conversion of those records to bins: {bins[:10]}')\n",
    "        print(f'Most common bin in the whole 5 minute interval: {most_common}')\n",
    "        print(f'Calculated baseline FHR for that interval: {mean}')\n",
    "\n",
    "    return(baseline)"
   ]
  },
  {
   "cell_type": "code",
   "execution_count": 7,
   "metadata": {},
   "outputs": [
    {
     "data": {
      "text/plain": [
       "array([   0,  150,  300,  450,  600,  750,  900, 1050, 1200, 1350, 1500,\n",
       "       1650, 1800, 1950, 2100, 2250, 2400, 2539])"
      ]
     },
     "execution_count": 7,
     "metadata": {},
     "output_type": "execute_result"
    }
   ],
   "source": [
    "# Load an example...\n",
    "record = 'test04'\n",
    "\n",
    "# FHR signal\n",
    "fhr = pd.read_csv(os.path.join(paths.clean_fhr, f'{record}.csv'),\n",
    "                  header=None)[0].values\n",
    "\n",
    "# Create array of zeros of length of fhr, which will amend to store baseline\n",
    "baseline = [0] * len(fhr)\n",
    "\n",
    "# Find mean of every 8 records, generating shorter version of FHR (sfhr)\n",
    "sfhr = []\n",
    "start=0\n",
    "end=len(fhr)\n",
    "step=8\n",
    "for i in range(start, end, step):\n",
    "    sfhr.append(np.mean(fhr[i:i+step]))\n",
    "\n",
    "# If there is a remainder when divide length by 8 (i.e. doesn't perfectly\n",
    "# divide), then drop the final calculated FHR, as it is not from at least 8 data points\n",
    "if len(fhr) % 8 != 0:\n",
    "    sfhr.pop()\n",
    "\n",
    "# Split the record into 5 minute intervals (if last less than 5 min, will be \n",
    "# smaller). Loop through each interval\n",
    "starts = np.append(np.arange(0, len(sfhr)-150, 150), [len(sfhr)-150])\n",
    "starts"
   ]
  },
  {
   "cell_type": "markdown",
   "metadata": {},
   "source": [
    "#### Compare one example to FHRMA"
   ]
  },
  {
   "cell_type": "code",
   "execution_count": 8,
   "metadata": {},
   "outputs": [
    {
     "data": {
      "text/plain": [
       "'Python result:'"
      ]
     },
     "metadata": {},
     "output_type": "display_data"
    },
    {
     "data": {
      "text/plain": [
       "[(125.3006804441638, 4800),\n",
       " (153.65487052485227, 1200),\n",
       " (135.12338322738472, 1200),\n",
       " (144.52495630490108, 2400),\n",
       " (135.12338322738472, 1200),\n",
       " (125.3006804441638, 1200),\n",
       " (135.12338322738472, 6000),\n",
       " (144.52495630490108, 3517)]"
      ]
     },
     "metadata": {},
     "output_type": "display_data"
    },
    {
     "data": {
      "text/plain": [
       "'FHRMA result:'"
      ]
     },
     "metadata": {},
     "output_type": "display_data"
    },
    {
     "data": {
      "text/plain": [
       "[(125.30068044416383, 4800),\n",
       " (153.65487052485227, 1200),\n",
       " (135.1233832273847, 1200),\n",
       " (144.52495630490105, 2400),\n",
       " (135.1233832273847, 1200),\n",
       " (125.30068044416383, 1200),\n",
       " (135.1233832273847, 6000),\n",
       " (144.52495630490105, 3517)]"
      ]
     },
     "metadata": {},
     "output_type": "display_data"
    },
    {
     "name": "stdout",
     "output_type": "stream",
     "text": [
      "Overall mean of each:\n",
      "136.00318412701296\n",
      "136.00318412701287\n",
      "Length of each:\n",
      "21517\n",
      "21517\n"
     ]
    }
   ],
   "source": [
    "# Load an example...\n",
    "record = 'test04'\n",
    "\n",
    "# FHR signal\n",
    "fhr = pd.read_csv(os.path.join(paths.clean_fhr, f'{record}.csv'),\n",
    "                  header=None)[0].values\n",
    "\n",
    "# Results from Python\n",
    "python_result = get_baseline(fhr, match_fhrma=True, show_process=False)\n",
    "\n",
    "# Result from FHRMA\n",
    "fhrma_result = fhrma_maeda_base[record]\n",
    "\n",
    "# Show differences\n",
    "display('Python result:')\n",
    "display([(k, sum(1 for i in g)) for k,g in groupby(python_result)])\n",
    "display('FHRMA result:')\n",
    "display([(k, sum(1 for i in g)) for k,g in groupby(fhrma_result)])\n",
    "\n",
    "print('Overall mean of each:')\n",
    "print(np.mean(python_result))\n",
    "print(np.mean(fhrma_result))\n",
    "\n",
    "print('Length of each:')\n",
    "print(len(python_result))\n",
    "print(len(fhrma_result))"
   ]
  },
  {
   "cell_type": "markdown",
   "metadata": {},
   "source": [
    "#### Test on all available FHRMA data and compare against their results\n",
    "\n",
    "For this, I took the overall mean from the baseline record (rather than comparing each of the 5-minute means).\n",
    "\n",
    "First, run all FHR through the baseline function and store results."
   ]
  },
  {
   "cell_type": "code",
   "execution_count": 9,
   "metadata": {},
   "outputs": [],
   "source": [
    "# Create dictionary to store results\n",
    "python_maeda = dict()\n",
    "\n",
    "for key, value in raw_fhr.items():\n",
    "    python_maeda[key] = get_baseline(value, match_fhrma=True, show_process=False)"
   ]
  },
  {
   "cell_type": "markdown",
   "metadata": {},
   "source": [
    "Then find the overall mean of each record and combine the results from python, octave and the FHRMA into a single dataframe."
   ]
  },
  {
   "cell_type": "code",
   "execution_count": 10,
   "metadata": {},
   "outputs": [],
   "source": [
    "# Find mean of each record\n",
    "python_df = pd.DataFrame({\n",
    "    'record': python_maeda.keys(),\n",
    "    'python_mean': [round(np.mean(python_maeda[i]),10) for i in python_maeda.keys()]})\n",
    "fhrma_df = pd.DataFrame({\n",
    "    'record': fhrma_maeda_base.keys(),\n",
    "    'fhrma_mean': [round(np.mean(fhrma_maeda_base[i]),10) for i in fhrma_maeda_base.keys()]})\n",
    "\n",
    "# Combine into a single dataframe\n",
    "compare_mean = pd.merge(python_df, fhrma_df, on='record')\n",
    "\n",
    "# Add column with difference in means\n",
    "compare_mean['diff'] = abs(compare_mean['python_mean'] - compare_mean['fhrma_mean'])"
   ]
  },
  {
   "cell_type": "markdown",
   "metadata": {},
   "source": [
    "Then define a function for displaying the differences."
   ]
  },
  {
   "cell_type": "code",
   "execution_count": 11,
   "metadata": {},
   "outputs": [],
   "source": [
    "def compare_means(df, x, y, title):\n",
    "    '''\n",
    "    Create scatterpol comparing two columns from df.\n",
    "    Inputs:\n",
    "    df - dataframe, to plot from\n",
    "    x - string, name of column for x axis\n",
    "    y - string, name of column for y axis\n",
    "    '''\n",
    "    fig, ax = plt.subplots()\n",
    "    ax.scatter(x=df[x], y=df[y])\n",
    "    plt.xlabel(x)\n",
    "    plt.ylabel(y)\n",
    "    plt.title(title)\n",
    "    plt.grid()\n",
    "    ax.set_box_aspect(1)\n",
    "    plt.show()"
   ]
  },
  {
   "cell_type": "markdown",
   "metadata": {},
   "source": [
    "Compare Python and FHRMA"
   ]
  },
  {
   "cell_type": "code",
   "execution_count": 12,
   "metadata": {},
   "outputs": [
    {
     "data": {
      "text/html": [
       "<div>\n",
       "<style scoped>\n",
       "    .dataframe tbody tr th:only-of-type {\n",
       "        vertical-align: middle;\n",
       "    }\n",
       "\n",
       "    .dataframe tbody tr th {\n",
       "        vertical-align: top;\n",
       "    }\n",
       "\n",
       "    .dataframe thead th {\n",
       "        text-align: right;\n",
       "    }\n",
       "</style>\n",
       "<table border=\"1\" class=\"dataframe\">\n",
       "  <thead>\n",
       "    <tr style=\"text-align: right;\">\n",
       "      <th></th>\n",
       "      <th>record</th>\n",
       "      <th>python_mean</th>\n",
       "      <th>fhrma_mean</th>\n",
       "      <th>diff</th>\n",
       "    </tr>\n",
       "  </thead>\n",
       "  <tbody>\n",
       "    <tr>\n",
       "      <th>0</th>\n",
       "      <td>train28</td>\n",
       "      <td>124.594527</td>\n",
       "      <td>124.594527</td>\n",
       "      <td>0.0</td>\n",
       "    </tr>\n",
       "    <tr>\n",
       "      <th>107</th>\n",
       "      <td>train51</td>\n",
       "      <td>176.449191</td>\n",
       "      <td>176.449191</td>\n",
       "      <td>0.0</td>\n",
       "    </tr>\n",
       "    <tr>\n",
       "      <th>100</th>\n",
       "      <td>train09</td>\n",
       "      <td>172.760367</td>\n",
       "      <td>172.760367</td>\n",
       "      <td>0.0</td>\n",
       "    </tr>\n",
       "    <tr>\n",
       "      <th>101</th>\n",
       "      <td>test87</td>\n",
       "      <td>146.004686</td>\n",
       "      <td>146.004686</td>\n",
       "      <td>0.0</td>\n",
       "    </tr>\n",
       "    <tr>\n",
       "      <th>102</th>\n",
       "      <td>train02</td>\n",
       "      <td>156.746943</td>\n",
       "      <td>156.746943</td>\n",
       "      <td>0.0</td>\n",
       "    </tr>\n",
       "  </tbody>\n",
       "</table>\n",
       "</div>"
      ],
      "text/plain": [
       "      record  python_mean  fhrma_mean  diff\n",
       "0    train28   124.594527  124.594527   0.0\n",
       "107  train51   176.449191  176.449191   0.0\n",
       "100  train09   172.760367  172.760367   0.0\n",
       "101   test87   146.004686  146.004686   0.0\n",
       "102  train02   156.746943  156.746943   0.0"
      ]
     },
     "metadata": {},
     "output_type": "display_data"
    },
    {
     "data": {
      "text/plain": [
       "diff\n",
       "True    156\n",
       "Name: count, dtype: int64"
      ]
     },
     "metadata": {},
     "output_type": "display_data"
    },
    {
     "data": {
      "image/png": "[encoded data removed]",
      "text/plain": [
       "<Figure size 640x480 with 1 Axes>"
      ]
     },
     "metadata": {},
     "output_type": "display_data"
    }
   ],
   "source": [
    "# Preview dataframe, starting with records with the greatest difference\n",
    "display(compare_mean.sort_values(by='diff', ascending=False).head())\n",
    "\n",
    "# Record how many are exactly the same\n",
    "display((compare_mean['diff'] == 0).value_counts())\n",
    "\n",
    "# Present in a figure\n",
    "compare_means(compare_mean, 'python_mean', 'fhrma_mean', 'python vs fhrma')"
   ]
  },
  {
   "cell_type": "markdown",
   "metadata": {},
   "source": [
    "## Maeda et al. 2012 Accelerations and Decelerations\n",
    "\n",
    "Method description from the paper:\n",
    "* **Reference line** - \"Data-to-data difference in FHR were averaged (F bpm) and added to the baseline data to define the upper reference line (FHR baseline + F/2), and subtracted from the baseline data to define the lower reference line (FHR baseline –F/2).\"\n",
    "* **Deceleration** - \"A transient FHR decrease of more than 15 bpm below the lower reference line lasting longer than 15 seconds was defined as a deceleration. An FHR decrease appearing during transient tachycardia with a nadir of 110 bpm or more was not considered a deceleration but instead a transient recovery to the normal baseline.\"\n",
    "* **Late Deceleration** - \"The DIP SHAPE value was applied to the classification of deceleration, and was calculated by dividing the dip area ((sum of the FHR data in the deceleration) x 2) by ((deceleration amplitude x duration (seconds)) (Fig. 2). A decrease in FHR was defined as late deceleration (LD) if the following four conditions were met within 15 minutes: (1) the lag time between the contraction peak and FHR nadir was longer than 20 seconds in 60 % or more decelerations: (2) the number of deceleration was more than the contraction number – 1: (3) the DIP SHAPE value was less than 0.5: and (4) the dip variability (sum of FHR n – FHR n-1 in the deceleration) was less than 60 bpm). A decrease in FHR was defined as early deceleration (ED) if the DIP SHAPE value was less than 0.5, dip irregularity was less than 60 bpm and the lag time was almost zero.\"\n",
    "* **Variable Deceleration** - \"A decrease in FHR was defined as a variable deceleration (VD) if the DIP SHAPE was greater than 0.6 and dip variability was greater than 60 bpm\"\n",
    "* **Severe variable Deceleration** - A variable deceleration with a nadir heart rate less than 100 bpm and duration longer than 60 seconds was defined as severe variable deceleration (SVD)\n",
    "* **Prolonged Deceleration** - Deceleration lasting longer than 2 minutes\n",
    "* **Acceleration** - A transient rise in FHR of 15 bpm or more above the upper reference line lasting 15 seconds or more , after 30 weeks of pregnancy, was defined as FHR acceleration \n",
    "\n",
    "### MATLAB implementation\n",
    "\n",
    "Boudet et al. implement this method [in the FHRMA toolbox using MATLAB](https://github.com/utsb-fmm/FHRMA/blob/master/aammaeda.m), and this is copied below. First, I have described my understanding of what this function is doing.\n",
    "\n",
    "for accelerations, detect accident...\n",
    "* signal = fhr - baseline\n",
    "* threshold = 15\n",
    "* peaks are where the signal is greater than the threshold\n",
    "* find the start, end and maximum points of those accidents\n",
    "* if segment is longer than 15 seconds (15*4) then it is classed as an accident\n",
    "\n",
    "minus int...\n",
    "* a = outcome of detect accident\n",
    "* f = rerun detect accident but with threshold of 5\n",
    "* removes elements from f that are also in a\n",
    "\n",
    "it does likewise for decelerations, but instead, signal = baseline - fhr.\n",
    "\n",
    "They state that Maeda's method for acceleration and deceleration detection is the same as the standard simple method used in their toolbox.\n",
    "\n",
    "**Note:** This appears to exclude the paper's concept of reference lines, which is ambiguous, but i think might be about finding the average difference between each 2second bpm HR reading and adding that to the 15bpm difference required from baseline\n",
    "\n",
    "```\n",
    "function [acc,dec,falseacc,falsedec]=simpleaddetection(fhr,baseline)\n",
    "\n",
    "acc=detectaccident(fhr-baseline,15);\n",
    "dec=detectaccident(baseline-fhr,15);\n",
    "falseacc=minusint(acc,detectaccident(fhr-baseline,5));\n",
    "falsedec=minusint(dec,detectaccident(baseline-fhr,5));\n",
    "end\n",
    "\n",
    "function accidentsample=detectaccident(sig,thre)\n",
    "\n",
    "peaks=find(sig>thre);\n",
    "accidentsample=zeros(3,0);\n",
    "while ~isempty(peaks)\n",
    "    dacc=find(sig(1:peaks)<0,1,'last');\n",
    "    if isempty(dacc)\n",
    "        dacc=1;\n",
    "    end\n",
    "    facc=find(sig(dacc+1:end)<0,1,'first')+dacc;\n",
    "    if isempty(facc)\n",
    "        facc=length(sig);\n",
    "    end\n",
    "    [~,macc]=max(sig(dacc:facc));\n",
    "    macc=macc+dacc-1;\n",
    "    if facc-dacc>15*4\n",
    "        accidentsample=[accidentsample [dacc;facc;macc]/4];\n",
    "    end   \n",
    "    peaks=peaks(peaks>facc);\n",
    "end\n",
    "end\n",
    "\n",
    "function f=minusint(a,f)\n",
    "\n",
    "for i=1:size(a,2)\n",
    "    n=find(f(1,:)>=a(1,i) &f(2,:)<=a(2,i));\n",
    "    if ~isempty(n)\n",
    "        f=f(:,[1:n-1 n+1:end]);\n",
    "    end\n",
    "end\n",
    "    \n",
    "end\n",
    "```"
   ]
  },
  {
   "cell_type": "markdown",
   "metadata": {},
   "source": [
    "### Python implementation\n",
    "\n",
    "I have used the baseline from the FHRMA toolbox when calculating accelerations and decelerations so I can validate the method, regardless of whether my baseline methodology produced an exact match. I still use the raw FHR as I have processed it though."
   ]
  },
  {
   "cell_type": "markdown",
   "metadata": {},
   "source": [
    "#### Define function for detecting accelerations or decelerations"
   ]
  },
  {
   "cell_type": "code",
   "execution_count": 13,
   "metadata": {},
   "outputs": [],
   "source": [
    "def detect_accident(sig, thre):\n",
    "    '''\n",
    "    Detect accelerations or decelerations by comparing difference betweeen FHR\n",
    "    and FHR baseline against a specified threshold.\n",
    "\n",
    "    Parameters:\n",
    "    -----------\n",
    "    sig: array\n",
    "        Difference between signal and baseline - for accelerations this is\n",
    "        fhr-baseline, and for decelerations this is baseline-fhr\n",
    "    thre: int\n",
    "        Threshold for difference\n",
    "\n",
    "    Outputs:\n",
    "    --------\n",
    "    result: dataframe\n",
    "        Dataframe with the time in seconds where a peak start and began, and \n",
    "        index for the maximum of the peak (and for decelerations, this is\n",
    "        referring to a trough and the max of that trough)\n",
    "    '''\n",
    "    # Create empty list to store result\n",
    "    res = []\n",
    "\n",
    "    # Find points where value is greater than the threshold\n",
    "    peaks = np.argwhere(sig > thre).ravel()\n",
    "\n",
    "    # While we have points in peaks\n",
    "    while len(peaks) > 0:\n",
    "\n",
    "        # Extract all of sig before the first peak\n",
    "        before = sig[:peaks[0]]\n",
    "\n",
    "        # Find index of last point before peak that is < 0\n",
    "        # E.g. For accelerations, last point where FHR is not past baseline\n",
    "        dacc = np.argwhere(before < 0).ravel()\n",
    "        if len(dacc) > 0:\n",
    "            dacc = dacc[-1]\n",
    "        else:\n",
    "            dacc = 1\n",
    "\n",
    "        # Extract all of signal after that point\n",
    "        after = sig[dacc+1:]\n",
    "\n",
    "        # Find index of first point after then that is < 0\n",
    "        # Adding dacc+1 to convert it to actual location in signal (not just after peak)\n",
    "        facc = np.argwhere(after < 0).ravel()\n",
    "        if len(facc > 0):\n",
    "            facc = facc[0] + dacc + 1\n",
    "        else:\n",
    "            facc = len(sig)-1\n",
    "\n",
    "        # Filter to the values between dacc and facc (so array just has values > 0)\n",
    "        interval = sig[dacc+1:facc]\n",
    "\n",
    "        # Find the index of the maximum value in that interval\n",
    "        # Adding dacc+1 to convert it to actual location in signal\n",
    "        macc = np.argmax(interval) + dacc + 1\n",
    "\n",
    "        # Check if length of interval is more than 15 seconds - if so, save result,\n",
    "        # dividing each value by 4 so it is in seconds rather than quarter seconds -\n",
    "        # and by 60 so it is in minutes rather than seconds - and plus 1 so it\n",
    "        # matches the MATLAB results (as that is 1-indexed)\n",
    "        if len(interval) >= 15*4:\n",
    "            res.append([(x+1)/4/60 for x in [dacc, facc, macc]])\n",
    "\n",
    "        # Filter to peaks that fall after interval explored\n",
    "        peaks = peaks[peaks > facc]\n",
    "\n",
    "    # Convert result to dataframe\n",
    "    result = pd.DataFrame(res, columns=['start', 'end', 'max'])\n",
    "\n",
    "    return (result)"
   ]
  },
  {
   "cell_type": "markdown",
   "metadata": {},
   "source": [
    "#### Compare on one example to FHRMA\n",
    "\n",
    "Recap:\n",
    "* FHR trace: close match to Octave (10dp), not possible to compare to FHRMA (as don't provide cleaned copy)\n",
    "* FHR baseline: close match to Octave (10dp), but both Octave and Python share differences with FHRMA (which is likely because there are some remaining differences in the FHR trace between MATLAB, and both of Octave and Python)\n",
    "\n",
    "The solution would be to also run this in MATLAB so I have a version of the cleaned FHR trace from MATLAB.\n",
    "\n",
    "For now, I am using the FHR trace and baseline from Python, but if I can get a cleaned FHR trace from MATLAB, then I should switch to using that and its baseline, as that is likely to allow me exact matches with the FHRMA results."
   ]
  },
  {
   "cell_type": "code",
   "execution_count": 14,
   "metadata": {},
   "outputs": [
    {
     "data": {
      "text/html": [
       "<div>\n",
       "<style scoped>\n",
       "    .dataframe tbody tr th:only-of-type {\n",
       "        vertical-align: middle;\n",
       "    }\n",
       "\n",
       "    .dataframe tbody tr th {\n",
       "        vertical-align: top;\n",
       "    }\n",
       "\n",
       "    .dataframe thead th {\n",
       "        text-align: right;\n",
       "    }\n",
       "</style>\n",
       "<table border=\"1\" class=\"dataframe\">\n",
       "  <thead>\n",
       "    <tr style=\"text-align: right;\">\n",
       "      <th></th>\n",
       "      <th>start</th>\n",
       "      <th>end</th>\n",
       "      <th>max</th>\n",
       "    </tr>\n",
       "  </thead>\n",
       "  <tbody>\n",
       "    <tr>\n",
       "      <th>0</th>\n",
       "      <td>2.345833</td>\n",
       "      <td>2.870833</td>\n",
       "      <td>2.704167</td>\n",
       "    </tr>\n",
       "    <tr>\n",
       "      <th>1</th>\n",
       "      <td>4.945833</td>\n",
       "      <td>5.445833</td>\n",
       "      <td>5.279167</td>\n",
       "    </tr>\n",
       "    <tr>\n",
       "      <th>2</th>\n",
       "      <td>7.120833</td>\n",
       "      <td>7.750000</td>\n",
       "      <td>7.362500</td>\n",
       "    </tr>\n",
       "    <tr>\n",
       "      <th>3</th>\n",
       "      <td>9.016667</td>\n",
       "      <td>9.487500</td>\n",
       "      <td>9.316667</td>\n",
       "    </tr>\n",
       "    <tr>\n",
       "      <th>4</th>\n",
       "      <td>10.545833</td>\n",
       "      <td>10.920833</td>\n",
       "      <td>10.766667</td>\n",
       "    </tr>\n",
       "    <tr>\n",
       "      <th>5</th>\n",
       "      <td>13.991667</td>\n",
       "      <td>14.437500</td>\n",
       "      <td>14.304167</td>\n",
       "    </tr>\n",
       "    <tr>\n",
       "      <th>6</th>\n",
       "      <td>16.845833</td>\n",
       "      <td>17.129167</td>\n",
       "      <td>16.950000</td>\n",
       "    </tr>\n",
       "    <tr>\n",
       "      <th>7</th>\n",
       "      <td>20.025000</td>\n",
       "      <td>20.791667</td>\n",
       "      <td>20.666667</td>\n",
       "    </tr>\n",
       "    <tr>\n",
       "      <th>8</th>\n",
       "      <td>27.554167</td>\n",
       "      <td>27.941667</td>\n",
       "      <td>27.670833</td>\n",
       "    </tr>\n",
       "    <tr>\n",
       "      <th>9</th>\n",
       "      <td>28.241667</td>\n",
       "      <td>28.525000</td>\n",
       "      <td>28.308333</td>\n",
       "    </tr>\n",
       "    <tr>\n",
       "      <th>10</th>\n",
       "      <td>28.841667</td>\n",
       "      <td>30.391667</td>\n",
       "      <td>29.425000</td>\n",
       "    </tr>\n",
       "    <tr>\n",
       "      <th>11</th>\n",
       "      <td>31.225000</td>\n",
       "      <td>31.979167</td>\n",
       "      <td>31.558333</td>\n",
       "    </tr>\n",
       "    <tr>\n",
       "      <th>12</th>\n",
       "      <td>33.341667</td>\n",
       "      <td>34.208333</td>\n",
       "      <td>34.033333</td>\n",
       "    </tr>\n",
       "    <tr>\n",
       "      <th>13</th>\n",
       "      <td>50.020833</td>\n",
       "      <td>50.750000</td>\n",
       "      <td>50.708333</td>\n",
       "    </tr>\n",
       "    <tr>\n",
       "      <th>14</th>\n",
       "      <td>54.108333</td>\n",
       "      <td>54.641667</td>\n",
       "      <td>54.545833</td>\n",
       "    </tr>\n",
       "    <tr>\n",
       "      <th>15</th>\n",
       "      <td>60.712500</td>\n",
       "      <td>61.387500</td>\n",
       "      <td>61.116667</td>\n",
       "    </tr>\n",
       "    <tr>\n",
       "      <th>16</th>\n",
       "      <td>65.283333</td>\n",
       "      <td>65.912500</td>\n",
       "      <td>65.600000</td>\n",
       "    </tr>\n",
       "    <tr>\n",
       "      <th>17</th>\n",
       "      <td>68.312500</td>\n",
       "      <td>69.583333</td>\n",
       "      <td>69.008333</td>\n",
       "    </tr>\n",
       "    <tr>\n",
       "      <th>18</th>\n",
       "      <td>70.300000</td>\n",
       "      <td>70.608333</td>\n",
       "      <td>70.466667</td>\n",
       "    </tr>\n",
       "    <tr>\n",
       "      <th>19</th>\n",
       "      <td>71.550000</td>\n",
       "      <td>73.420833</td>\n",
       "      <td>73.175000</td>\n",
       "    </tr>\n",
       "    <tr>\n",
       "      <th>20</th>\n",
       "      <td>87.612500</td>\n",
       "      <td>88.487500</td>\n",
       "      <td>88.375000</td>\n",
       "    </tr>\n",
       "    <tr>\n",
       "      <th>21</th>\n",
       "      <td>112.058333</td>\n",
       "      <td>112.779167</td>\n",
       "      <td>112.529167</td>\n",
       "    </tr>\n",
       "    <tr>\n",
       "      <th>22</th>\n",
       "      <td>112.812500</td>\n",
       "      <td>113.466667</td>\n",
       "      <td>113.070833</td>\n",
       "    </tr>\n",
       "    <tr>\n",
       "      <th>23</th>\n",
       "      <td>115.433333</td>\n",
       "      <td>116.758333</td>\n",
       "      <td>116.620833</td>\n",
       "    </tr>\n",
       "  </tbody>\n",
       "</table>\n",
       "</div>"
      ],
      "text/plain": [
       "         start         end         max\n",
       "0     2.345833    2.870833    2.704167\n",
       "1     4.945833    5.445833    5.279167\n",
       "2     7.120833    7.750000    7.362500\n",
       "3     9.016667    9.487500    9.316667\n",
       "4    10.545833   10.920833   10.766667\n",
       "5    13.991667   14.437500   14.304167\n",
       "6    16.845833   17.129167   16.950000\n",
       "7    20.025000   20.791667   20.666667\n",
       "8    27.554167   27.941667   27.670833\n",
       "9    28.241667   28.525000   28.308333\n",
       "10   28.841667   30.391667   29.425000\n",
       "11   31.225000   31.979167   31.558333\n",
       "12   33.341667   34.208333   34.033333\n",
       "13   50.020833   50.750000   50.708333\n",
       "14   54.108333   54.641667   54.545833\n",
       "15   60.712500   61.387500   61.116667\n",
       "16   65.283333   65.912500   65.600000\n",
       "17   68.312500   69.583333   69.008333\n",
       "18   70.300000   70.608333   70.466667\n",
       "19   71.550000   73.420833   73.175000\n",
       "20   87.612500   88.487500   88.375000\n",
       "21  112.058333  112.779167  112.529167\n",
       "22  112.812500  113.466667  113.070833\n",
       "23  115.433333  116.758333  116.620833"
      ]
     },
     "execution_count": 14,
     "metadata": {},
     "output_type": "execute_result"
    }
   ],
   "source": [
    "fhr = raw_fhr['train47']\n",
    "\n",
    "# Get baseline for that record\n",
    "baseline = fhrma_maeda_base['train47']\n",
    "\n",
    "# Get acceleration result from FHRMA for that record\n",
    "fhrma_result = fhrma_maeda_acc['train47']\n",
    "\n",
    "# Use function to get my result for accelerations\n",
    "acc_df = detect_accident(fhr-baseline, 15)\n",
    "acc_df"
   ]
  },
  {
   "cell_type": "code",
   "execution_count": 15,
   "metadata": {},
   "outputs": [
    {
     "data": {
      "text/html": [
       "<div>\n",
       "<style scoped>\n",
       "    .dataframe tbody tr th:only-of-type {\n",
       "        vertical-align: middle;\n",
       "    }\n",
       "\n",
       "    .dataframe tbody tr th {\n",
       "        vertical-align: top;\n",
       "    }\n",
       "\n",
       "    .dataframe thead th {\n",
       "        text-align: right;\n",
       "    }\n",
       "</style>\n",
       "<table border=\"1\" class=\"dataframe\">\n",
       "  <thead>\n",
       "    <tr style=\"text-align: right;\">\n",
       "      <th></th>\n",
       "      <th>start</th>\n",
       "      <th>end</th>\n",
       "      <th>max</th>\n",
       "    </tr>\n",
       "  </thead>\n",
       "  <tbody>\n",
       "  </tbody>\n",
       "</table>\n",
       "</div>"
      ],
      "text/plain": [
       "Empty DataFrame\n",
       "Columns: [start, end, max]\n",
       "Index: []"
      ]
     },
     "execution_count": 15,
     "metadata": {},
     "output_type": "execute_result"
    }
   ],
   "source": [
    "# Find false accelerations\n",
    "false_acc_m = detect_accident(fhr-baseline, 5)[['start', 'end']].to_numpy()\n",
    "\n",
    "# Look for when acc falls within false_acc_m (ie. start >= false start, and \n",
    "# end <= false end) and remove those from acc\n",
    "for i in np.arange(0, len(false_acc_m)):\n",
    "    false_start = false_acc_m[i][0]\n",
    "    false_end = false_acc_m[i][1]\n",
    "    mask = ((acc_df['start'] >= false_start) & (acc_df['start'] <= false_end))\n",
    "    acc_df = acc_df[~mask]\n",
    "\n",
    "acc_df"
   ]
  },
  {
   "cell_type": "code",
   "execution_count": 16,
   "metadata": {},
   "outputs": [
    {
     "data": {
      "text/plain": [
       "array([[  2.34583333,   2.87083333],\n",
       "       [  3.15833333,   3.675     ],\n",
       "       [  4.94583333,   5.44583333],\n",
       "       [  7.12083333,   7.75      ],\n",
       "       [  9.01666667,   9.4875    ],\n",
       "       [ 10.54583333,  10.92083333],\n",
       "       [ 11.325     ,  11.87916667],\n",
       "       [ 13.99166667,  14.4375    ],\n",
       "       [ 14.44166667,  14.7       ],\n",
       "       [ 15.65416667,  16.46666667],\n",
       "       [ 16.84583333,  17.12916667],\n",
       "       [ 17.17083333,  17.5875    ],\n",
       "       [ 19.475     ,  20.025     ],\n",
       "       [ 20.025     ,  20.79166667],\n",
       "       [ 21.18333333,  21.6125    ],\n",
       "       [ 23.00833333,  23.30416667],\n",
       "       [ 23.7       ,  24.64583333],\n",
       "       [ 27.55416667,  27.94166667],\n",
       "       [ 28.24166667,  28.525     ],\n",
       "       [ 28.52916667,  28.83333333],\n",
       "       [ 28.84166667,  30.39166667],\n",
       "       [ 31.225     ,  31.97916667],\n",
       "       [ 33.34166667,  34.20833333],\n",
       "       [ 37.625     ,  38.09166667],\n",
       "       [ 38.14166667,  38.6125    ],\n",
       "       [ 39.3625    ,  39.80416667],\n",
       "       [ 40.67083333,  41.18333333],\n",
       "       [ 43.125     ,  43.69583333],\n",
       "       [ 50.02083333,  50.75      ],\n",
       "       [ 54.10833333,  54.64166667],\n",
       "       [ 60.7125    ,  61.3875    ],\n",
       "       [ 65.28333333,  65.9125    ],\n",
       "       [ 66.22916667,  66.62083333],\n",
       "       [ 66.6875    ,  67.44166667],\n",
       "       [ 68.3125    ,  69.58333333],\n",
       "       [ 70.3       ,  70.60833333],\n",
       "       [ 71.55      ,  73.42083333],\n",
       "       [ 73.60416667,  74.1375    ],\n",
       "       [ 74.1625    ,  75.02916667],\n",
       "       [ 75.38333333,  75.81666667],\n",
       "       [ 75.82083333,  76.22916667],\n",
       "       [ 79.57083333,  79.98333333],\n",
       "       [ 80.        ,  81.93333333],\n",
       "       [ 82.99166667,  83.3       ],\n",
       "       [ 87.6125    ,  88.4875    ],\n",
       "       [ 95.70416667, 102.6625    ],\n",
       "       [110.5875    , 111.62083333],\n",
       "       [112.05833333, 112.77916667],\n",
       "       [112.8125    , 113.46666667],\n",
       "       [115.43333333, 116.75833333]])"
      ]
     },
     "execution_count": 16,
     "metadata": {},
     "output_type": "execute_result"
    }
   ],
   "source": [
    "false_acc_m"
   ]
  },
  {
   "cell_type": "markdown",
   "metadata": {},
   "source": [
    "#### Test on all results and compare against FHRMA\n",
    "\n",
    "Run on all results. Aware that differences may arise as differences found for baseline (and not possible to check for the FHR trace itself without MATLAB access) as above."
   ]
  },
  {
   "cell_type": "code",
   "execution_count": 17,
   "metadata": {},
   "outputs": [],
   "source": [
    "res = []\n",
    "\n",
    "for record, fhr in raw_fhr.items():\n",
    "\n",
    "    # Get baseline for that record\n",
    "    baseline = fhrma_maeda_base[record]\n",
    "\n",
    "    # Get acceleration result from FHRMA for that record\n",
    "    fhrma_result = fhrma_maeda_acc[record]\n",
    "\n",
    "    # Use function to get my result for accelerations\n",
    "    python_result = detect_accident(fhr-baseline, 15)[['start', 'end']].to_numpy()\n",
    "\n",
    "    # Check if all match\n",
    "    match = np.array_equal(fhrma_result, python_result)\n",
    "\n",
    "    # Store in results\n",
    "    res.append([record, fhrma_result, python_result, match])\n",
    "\n",
    "# Convert to dataframe\n",
    "result = pd.DataFrame(res, columns=['record', 'fhrma', 'python', 'match'])"
   ]
  },
  {
   "cell_type": "markdown",
   "metadata": {},
   "source": [
    "Preview dataframe and number of differences and an example."
   ]
  },
  {
   "cell_type": "code",
   "execution_count": 18,
   "metadata": {},
   "outputs": [
    {
     "data": {
      "text/html": [
       "<div>\n",
       "<style scoped>\n",
       "    .dataframe tbody tr th:only-of-type {\n",
       "        vertical-align: middle;\n",
       "    }\n",
       "\n",
       "    .dataframe tbody tr th {\n",
       "        vertical-align: top;\n",
       "    }\n",
       "\n",
       "    .dataframe thead th {\n",
       "        text-align: right;\n",
       "    }\n",
       "</style>\n",
       "<table border=\"1\" class=\"dataframe\">\n",
       "  <thead>\n",
       "    <tr style=\"text-align: right;\">\n",
       "      <th></th>\n",
       "      <th>record</th>\n",
       "      <th>fhrma</th>\n",
       "      <th>python</th>\n",
       "      <th>match</th>\n",
       "    </tr>\n",
       "  </thead>\n",
       "  <tbody>\n",
       "    <tr>\n",
       "      <th>0</th>\n",
       "      <td>train28</td>\n",
       "      <td>[[9.9125, 11.091666666666667], [13.325, 14.779...</td>\n",
       "      <td>[[9.9125, 11.091666666666667], [13.325, 14.779...</td>\n",
       "      <td>True</td>\n",
       "    </tr>\n",
       "    <tr>\n",
       "      <th>1</th>\n",
       "      <td>test80</td>\n",
       "      <td>[[6.470833333333333, 9.054166666666667], [14.6...</td>\n",
       "      <td>[[6.470833333333333, 9.054166666666667], [14.6...</td>\n",
       "      <td>True</td>\n",
       "    </tr>\n",
       "    <tr>\n",
       "      <th>2</th>\n",
       "      <td>test68</td>\n",
       "      <td>[[0.004166666666666667, 5.033333333333333], [8...</td>\n",
       "      <td>[[0.008333333333333333, 5.033333333333333], [8...</td>\n",
       "      <td>False</td>\n",
       "    </tr>\n",
       "    <tr>\n",
       "      <th>3</th>\n",
       "      <td>train04</td>\n",
       "      <td>[[4.125, 5.491666666666666], [7.3625, 10.50416...</td>\n",
       "      <td>[[4.125, 5.491666666666666], [7.3625, 10.50416...</td>\n",
       "      <td>True</td>\n",
       "    </tr>\n",
       "    <tr>\n",
       "      <th>4</th>\n",
       "      <td>train31</td>\n",
       "      <td>[[19.225, 19.591666666666665], [20.325, 20.904...</td>\n",
       "      <td>[[19.225, 19.591666666666665], [20.325, 20.904...</td>\n",
       "      <td>True</td>\n",
       "    </tr>\n",
       "  </tbody>\n",
       "</table>\n",
       "</div>"
      ],
      "text/plain": [
       "    record                                              fhrma  \\\n",
       "0  train28  [[9.9125, 11.091666666666667], [13.325, 14.779...   \n",
       "1   test80  [[6.470833333333333, 9.054166666666667], [14.6...   \n",
       "2   test68  [[0.004166666666666667, 5.033333333333333], [8...   \n",
       "3  train04  [[4.125, 5.491666666666666], [7.3625, 10.50416...   \n",
       "4  train31  [[19.225, 19.591666666666665], [20.325, 20.904...   \n",
       "\n",
       "                                              python  match  \n",
       "0  [[9.9125, 11.091666666666667], [13.325, 14.779...   True  \n",
       "1  [[6.470833333333333, 9.054166666666667], [14.6...   True  \n",
       "2  [[0.008333333333333333, 5.033333333333333], [8...  False  \n",
       "3  [[4.125, 5.491666666666666], [7.3625, 10.50416...   True  \n",
       "4  [[19.225, 19.591666666666665], [20.325, 20.904...   True  "
      ]
     },
     "execution_count": 18,
     "metadata": {},
     "output_type": "execute_result"
    }
   ],
   "source": [
    "result.head()"
   ]
  },
  {
   "cell_type": "code",
   "execution_count": 19,
   "metadata": {},
   "outputs": [
    {
     "data": {
      "text/plain": [
       "match\n",
       "True     146\n",
       "False     10\n",
       "Name: count, dtype: int64"
      ]
     },
     "execution_count": 19,
     "metadata": {},
     "output_type": "execute_result"
    }
   ],
   "source": [
    "result['match'].value_counts()"
   ]
  },
  {
   "cell_type": "code",
   "execution_count": 20,
   "metadata": {},
   "outputs": [
    {
     "name": "stdout",
     "output_type": "stream",
     "text": [
      "13\n",
      "13\n"
     ]
    }
   ],
   "source": [
    "fhrma = result['fhrma'][4]\n",
    "python = result['python'][4]\n",
    "\n",
    "print(len(fhrma))\n",
    "print(len(python))"
   ]
  },
  {
   "cell_type": "markdown",
   "metadata": {},
   "source": [
    "Exploring number of differences and whether its always less (as I'm suspicious that remaining discrepancies are due to not yet implementing falseacc) - but below can see that's not the case"
   ]
  },
  {
   "cell_type": "code",
   "execution_count": 21,
   "metadata": {},
   "outputs": [],
   "source": [
    "result['fhrma_len'] = [len(x) for x in result['fhrma']]\n",
    "result['python_len'] = [len(x) for x in result['python']]"
   ]
  },
  {
   "cell_type": "code",
   "execution_count": 22,
   "metadata": {},
   "outputs": [
    {
     "data": {
      "image/png": "[encoded data removed]",
      "text/plain": [
       "<Figure size 640x480 with 1 Axes>"
      ]
     },
     "metadata": {},
     "output_type": "display_data"
    }
   ],
   "source": [
    "compare_means(result, 'fhrma_len', 'python_len',\n",
    "              'Number of detected accelerations')"
   ]
  }
 ],
 "metadata": {
  "kernelspec": {
   "display_name": "ctg",
   "language": "python",
   "name": "python3"
  },
  "language_info": {
   "codemirror_mode": {
    "name": "ipython",
    "version": 3
   },
   "file_extension": ".py",
   "mimetype": "text/x-python",
   "name": "python",
   "nbconvert_exporter": "python",
   "pygments_lexer": "ipython3",
   "version": "3.10.13"
  }
 },
 "nbformat": 4,
 "nbformat_minor": 2
}
