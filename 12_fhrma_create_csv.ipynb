{
 "cells": [
  {
   "cell_type": "markdown",
   "metadata": {},
   "source": [
    "# Create CSV files with FHR from the binary files provided in the FHRMA toolbox"
   ]
  },
  {
   "cell_type": "markdown",
   "metadata": {},
   "source": [
    "## About the CTG files\n",
    "The FHRMA toolbox provides 66 training files and 90 test files with raw CTG data. They are stored as binary .fhr files. The signals were sampled at 4 Hz and stored in the following format. For each sample:\n",
    "* A uint32 serves as the UNIX timestamp for the beginning of the recording\n",
    "* A uint16 corresponds to the FHR from the first sensor (multiplied by 4)\n",
    "* A uint16 for the FHR signal from the second sensor (multiplied by 4) (unused here)\n",
    "* A uint8 for the TOCO signal (multiplied by 2)\n",
    "* A uint8 reserved to store signal quality (unused here).\n",
    "\n",
    "The FHR signal is set to 0 when it is missing.\n",
    "\n",
    "## Background information on binary files\n",
    "Binary files consist of sequential bytes, which are each 8 bits long. Bits are 0s and 1s.\n",
    "\n",
    "Binary files typically have a header indicating the file type.\n",
    "\n",
    "A byte can represent a number from 0 to 255, or -127 to +127 if you use one bit to indicate the minus sign. Groups of bytes can be used to represent larger numbers, for example:\n",
    "| Number of bytes (or bits) | Name | Range (will - this to + this) |\n",
    "| --- | --- | --- |\n",
    "| 1 (8 bits) | Byte | 128 |\n",
    "| 2 (16 bits) | Short | 32,768 |\n",
    "| 4 (32 bits) | Int | 2,147,483,648 |\n",
    "| 8 (64 bits) | Int64 | 9,223,372,036,854,775,808 |\n",
    "\n",
    "## MATLAB function\n",
    "\n",
    "The .fhr files can be opened with the fhropen.m function in MATLAB. I succesfully ran this in Octave, and have copied below:\n",
    "\n",
    "```\n",
    "clear;\n",
    "\n",
    "% Set filename\n",
    "filename='test02';\n",
    "\n",
    "% Open file\n",
    "f=fopen([filename, '.fhr'], 'r');\n",
    "\n",
    "% Load timestamp for beginning of recording\n",
    "timestamp=fread(f,1,'uint32');\n",
    "\n",
    "% Load FHR data - first corresponds to first sensor, and\n",
    "% second corresponds to second sensor (which they don't use)\n",
    "% This reads 3 x 10,000,000 array\n",
    "data=fread(f,[3,10000000],'uint16');\n",
    "FHR1=data(1,:)/4;\n",
    "FHR2=data(2,:)/4;\n",
    "\n",
    "fseek(f,4,'bof');\n",
    "\n",
    "% TOCO signal\n",
    "data=fread(f,[6,10000000],'uint8');\n",
    "TOCO=data(5,:)/2;\n",
    "\n",
    "MHR=zeros(size(FHR1));\n",
    "infos=[];\n",
    "fclose(f);\n",
    "\n",
    "% Save FHR1 to a file for use in python\n",
    "csvwrite([filename, '.csv'], transpose(FHR1));\n",
    "```"
   ]
  },
  {
   "cell_type": "markdown",
   "metadata": {},
   "source": [
    "## Implementation in Python"
   ]
  },
  {
   "cell_type": "code",
   "execution_count": 1,
   "metadata": {},
   "outputs": [],
   "source": [
    "# Load required packages\n",
    "import numpy as np"
   ]
  },
  {
   "cell_type": "code",
   "execution_count": 2,
   "metadata": {},
   "outputs": [],
   "source": [
    "file_path = 'fhrma/train_test_data/testdata_fhr/test01.fhr'"
   ]
  },
  {
   "cell_type": "code",
   "execution_count": 3,
   "metadata": {},
   "outputs": [
    {
     "data": {
      "text/plain": [
       "array([120.25, 120.25, 120.  , ..., 111.  , 112.75, 112.75])"
      ]
     },
     "execution_count": 3,
     "metadata": {},
     "output_type": "execute_result"
    }
   ],
   "source": [
    "# Read file as uint16\n",
    "content = np.fromfile(file_path, dtype=np.uint16)\n",
    "\n",
    "# Ignore first two bytes, then reshape so you have a 3 x n array\n",
    "data = content[2:10000000-1].reshape(-1, 3).T\n",
    "\n",
    "# Take first array which corresponds to first sensor\n",
    "fhr1 = data[0]/4\n",
    "fhr1"
   ]
  },
  {
   "cell_type": "code",
   "execution_count": 4,
   "metadata": {},
   "outputs": [],
   "source": [
    "import pandas as pd\n",
    "\n",
    "test_fhr1 = pd.read_csv('fhrma/train_test_data/testdata_csv/test01.csv', header=None)\n",
    "test_fhr1 = test_fhr1[0].values"
   ]
  },
  {
   "cell_type": "code",
   "execution_count": 5,
   "metadata": {},
   "outputs": [
    {
     "data": {
      "text/plain": [
       "True"
      ]
     },
     "execution_count": 5,
     "metadata": {},
     "output_type": "execute_result"
    }
   ],
   "source": [
    "(fhr1 == test_fhr1).all()"
   ]
  }
 ],
 "metadata": {
  "kernelspec": {
   "display_name": "ctg",
   "language": "python",
   "name": "python3"
  },
  "language_info": {
   "codemirror_mode": {
    "name": "ipython",
    "version": 3
   },
   "file_extension": ".py",
   "mimetype": "text/x-python",
   "name": "python",
   "nbconvert_exporter": "python",
   "pygments_lexer": "ipython3",
   "version": "3.10.13"
  }
 },
 "nbformat": 4,
 "nbformat_minor": 2
}
