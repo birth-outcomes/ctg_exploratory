{
 "cells": [
  {
   "cell_type": "markdown",
   "metadata": {},
   "source": [
    "# Create CSV database\n",
    "\n",
    "This converts the `.dat` and `.hea` files in the `data/` folder into `.csv` files stored in the `data_csv/` folder.\n",
    "\n",
    "Code adapted from: https://github.com/fabiom91/CTU-CHB_Physionet.org/blob/master/create_csv_database.ipynb"
   ]
  },
  {
   "cell_type": "markdown",
   "metadata": {},
   "source": [
    "## Import required pacakges"
   ]
  },
  {
   "cell_type": "code",
   "execution_count": 1,
   "metadata": {},
   "outputs": [],
   "source": [
    "import math\n",
    "from os import listdir\n",
    "import pandas as pd\n",
    "from tqdm import tqdm\n",
    "import wfdb\n",
    "\n",
    "import warnings\n",
    "warnings.filterwarnings(\"ignore\")"
   ]
  },
  {
   "cell_type": "markdown",
   "metadata": {},
   "source": [
    "## Define functions"
   ]
  },
  {
   "cell_type": "code",
   "execution_count": 2,
   "metadata": {},
   "outputs": [],
   "source": [
    "def get_all_records():\n",
    "    '''\n",
    "    Get list of record names e.g. ['1347', '2040', '1054', ...]\n",
    "    '''\n",
    "    rec_list = []\n",
    "    for file in listdir(\"data/\"):\n",
    "        rec = file[:file.find('.')]\n",
    "        try:\n",
    "            rec = int(rec)\n",
    "            rec_list.append(rec)\n",
    "        except:\n",
    "            pass\n",
    "    rec_list = [str(i) for i in rec_list]\n",
    "    return rec_list\n",
    "\n",
    "\n",
    "def consec_repeat(repeats, max_value, len):\n",
    "    '''\n",
    "    Creates list with consecutive numbers, where each number repeats a specified\n",
    "    amount of times\n",
    "    Inputs:\n",
    "    - repeats - int, number of times to repeat each number\n",
    "    - max_value - int, maximum number to reach\n",
    "    - len - int, length of list (as may be to a quarter second so not 4 end rep)\n",
    "    '''\n",
    "    # Round up max_value to nearest integer if required\n",
    "    max_value = math.ceil(max_value)\n",
    "    # Create list of repeated consecutive numbers\n",
    "    list = [x//repeats for x in range((max_value+1)*repeats)]\n",
    "    # Trim list to desired length (to deal with odd quarter seconds and with\n",
    "    # the zero-based indexing (whilst max_value will be one higher))\n",
    "    list = list[:len]\n",
    "    return(list)\n",
    "\n",
    "\n",
    "def create_signals_database(rec):\n",
    "    '''\n",
    "    Read the signal files (with FHR and UC), add tme in seconds and minutes,\n",
    "    and save to csv file.\n",
    "    Inputs:\n",
    "    - rec - name of record (e.g. '1347')\n",
    "    '''\n",
    "    # Read signal file and save to dataframe\n",
    "    sample = wfdb.rdsamp(\"data/%s\" % rec)\n",
    "    df = pd.DataFrame(sample[0], columns=['FHR','UC'])\n",
    "    df.index.name = 'quarter_second'\n",
    "    # Find the length of the record in quarter seconds, seconds and minutes\n",
    "    q_sec = len(df.index)\n",
    "    sec = q_sec/4\n",
    "    min = sec/60\n",
    "    # Add column with time in seconds and minutes\n",
    "    df['second'] = consec_repeat(repeats=4, max_value=int(sec), len=q_sec)\n",
    "    df['minute'] = consec_repeat(repeats=4*60, max_value=int(min), len=q_sec)\n",
    "    # Save to csv file\n",
    "    df.to_csv('data_csv/%s.csv' % rec)\n",
    "\n",
    "\n",
    "def create_ann_dataframe(rec):\n",
    "    '''\n",
    "    Read the metadata and save as dataframe\n",
    "    Inputs:\n",
    "    - rec - name of record (e.g. '1347')\n",
    "    '''\n",
    "    sample = wfdb.rdsamp(\"data/%s\" % rec)\n",
    "    ann = sample[1]['comments'][1:]\n",
    "    ann_dic = {}\n",
    "    for a in ann:\n",
    "        if '--' in a:\n",
    "            ann.remove(a)\n",
    "\n",
    "    for a in ann:\n",
    "        key = a[:a.find('  ')]\n",
    "        if a.find('  ') == -1:\n",
    "            key = a[:a.find(' ')]\n",
    "        inv = a[::-1]\n",
    "        value = inv[:inv.find(' ')][::-1]\n",
    "        value = float(value)\n",
    "        ann_dic[key] = [value]\n",
    "        \n",
    "    df1 = pd.DataFrame.from_dict(ann_dic).T\n",
    "    df1 = df1.rename(columns={0:rec})\n",
    "    return df1\n",
    "\n",
    "\n",
    "def append_ann_dataframes(df,df1):\n",
    "    '''\n",
    "    Join together the meta data from each record into a single file\n",
    "    Inputs:\n",
    "    df - dataframe, to be combined\n",
    "    df1 - dataframe, to be combined\n",
    "    '''\n",
    "    rec = df1.columns[0]\n",
    "    df[rec] = df1[rec]\n",
    "    return df\n",
    "    "
   ]
  },
  {
   "cell_type": "markdown",
   "metadata": {},
   "source": [
    "## Convert the files"
   ]
  },
  {
   "cell_type": "code",
   "execution_count": 3,
   "metadata": {},
   "outputs": [
    {
     "name": "stderr",
     "output_type": "stream",
     "text": [
      "100%|██████████| 1104/1104 [01:12<00:00, 15.27it/s]"
     ]
    },
    {
     "name": "stdout",
     "output_type": "stream",
     "text": [
      "DONE!\n"
     ]
    },
    {
     "name": "stderr",
     "output_type": "stream",
     "text": [
      "\n"
     ]
    }
   ],
   "source": [
    "df = pd.DataFrame()\n",
    "for rec in tqdm(get_all_records()):\n",
    "    create_signals_database(rec)\n",
    "    df = append_ann_dataframes(df,create_ann_dataframe(rec))\n",
    "df.to_csv('data_csv/metadata.csv', index_label='parameter')\n",
    "\n",
    "print('DONE!')"
   ]
  }
 ],
 "metadata": {
  "kernelspec": {
   "display_name": "Python 3 (ipykernel)",
   "language": "python",
   "name": "python3"
  },
  "language_info": {
   "codemirror_mode": {
    "name": "ipython",
    "version": 3
   },
   "file_extension": ".py",
   "mimetype": "text/x-python",
   "name": "python",
   "nbconvert_exporter": "python",
   "pygments_lexer": "ipython3",
   "version": "3.10.13"
  }
 },
 "nbformat": 4,
 "nbformat_minor": 4
}
